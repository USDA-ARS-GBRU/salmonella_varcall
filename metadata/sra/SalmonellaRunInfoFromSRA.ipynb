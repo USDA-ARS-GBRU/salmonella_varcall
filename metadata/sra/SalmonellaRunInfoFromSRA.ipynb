{
 "cells": [
  {
   "cell_type": "markdown",
   "metadata": {},
   "source": [
    "# *Salmonella* SRA Dataset Metadata Exploration"
   ]
  },
  {
   "cell_type": "markdown",
   "metadata": {},
   "source": [
    "Written by John Christian Gaby\n",
    "\n",
    "August 6, 2021"
   ]
  },
  {
   "cell_type": "markdown",
   "metadata": {},
   "source": [
    "There are over 417,588 *Salmonella enterica* datasets in the SRA that I obtained with the following UNIX BASH command on August 4, 2021:\n",
    "\n",
    "`esearch -db sra -query \"Salmonella enterica[ORGN]\" | esummary -format runinfo -mode xml | xtract -pattern Row -def \"-\" -element Run ReleaseDate LoadDate spots bases spots_with_mates avgLength size_MB AssemblyName download_path Experiment LibraryName LibraryStrategy LibrarySelection LibrarySource LibraryLayout InsertSize InsertDev Platform Model SRAStudy BioProject ProjectID Sample BioSample SampleType TaxID ScientificName SampleName Tumor CenterName Submission Consent RunHash ReadHash > SentericaRunInfoXMLextract.tsv`\n",
    "\n",
    "This uses NCBI eUtils commands to download the runinfo in XML format (specification of text format rather than XML resulted in misalignment of the columns) for the SRA database query `Salmonella enterica[ORGN]`.\n",
    "\n",
    "The output was saved in a tab-delimited file named `SentericaRunInfoXMLextract.tsv`. This file is 196.6 MBytes in size.\n",
    "\n",
    "A dataset was similarly obtained for *Salmonella bongori*, which is explored before importing the *S. enterica* runinfo data. "
   ]
  },
  {
   "cell_type": "markdown",
   "metadata": {},
   "source": [
    "## Import Required Modules"
   ]
  },
  {
   "cell_type": "markdown",
   "metadata": {},
   "source": [
    "The following modules are required in order to execute the code herein."
   ]
  },
  {
   "cell_type": "code",
   "execution_count": 2,
   "metadata": {},
   "outputs": [],
   "source": [
    "import pandas as pd\n",
    "\n",
    "import numpy as np\n",
    "\n",
    "import matplotlib.pyplot as plt\n",
    "import matplotlib.mlab as mlab\n",
    "\n",
    "from scipy.stats import norm\n",
    "\n",
    "import datetime\n",
    "\n",
    "import sys"
   ]
  },
  {
   "cell_type": "markdown",
   "metadata": {},
   "source": [
    "The following command prints a list of imported modules along with their version. Note that the command `!pip list` will list all installed modules on the system, not just those that are loaded."
   ]
  },
  {
   "cell_type": "code",
   "execution_count": 11,
   "metadata": {},
   "outputs": [
    {
     "name": "stdout",
     "output_type": "stream",
     "text": [
      "ipykernel._version 5.3.2\n",
      "re 2.2.1\n",
      "json 2.0.9\n",
      "IPython.core.release 7.16.1\n",
      "logging 0.5.1.2\n",
      "zlib 1.0\n",
      "six 1.15.0\n",
      "ipython_genutils._version 0.2.0\n",
      "ipython_genutils 0.2.0\n",
      "platform 1.0.8\n",
      "traitlets._version 4.3.3\n",
      "traitlets 4.3.3\n",
      "decorator 4.4.2\n",
      "argparse 1.1\n",
      "pygments 2.6.1\n",
      "ptyprocess 0.6.0\n",
      "pexpect 4.8.0\n",
      "pickleshare 0.7.5\n",
      "backcall 0.2.0\n",
      "wcwidth 0.2.5\n",
      "prompt_toolkit 3.0.5\n",
      "parso 0.7.0\n",
      "_ctypes 1.1.0\n",
      "ctypes 1.1.0\n",
      "colorama 0.4.3\n",
      "jedi 0.17.1\n",
      "urllib.request 3.8\n",
      "IPython 7.16.1\n",
      "jupyter_client._version 6.1.6\n",
      "zmq.backend.cython.constants 40302\n",
      "zmq.backend.cython 40302\n",
      "zmq.sugar.constants 40302\n",
      "zmq.sugar.version 19.0.1\n",
      "zmq.sugar 19.0.1\n",
      "zmq 19.0.1\n",
      "jupyter_core.version 4.6.3\n",
      "jupyter_core 4.6.3\n",
      "distutils 3.8.3\n",
      "jupyter_client 6.1.6\n",
      "ipykernel 5.3.2\n",
      "_curses b'2.2'\n",
      "dateutil 2.8.1\n",
      "_decimal 1.70\n",
      "decimal 1.70\n",
      "mkl 2.3.0\n",
      "numpy.core._multiarray_umath 3.1\n",
      "numpy.core 1.18.5\n",
      "numpy.linalg._umath_linalg b'0.1.5'\n",
      "numpy.lib 1.18.5\n",
      "numpy 1.18.5\n",
      "pytz 2020.1\n",
      "bottleneck 1.3.2\n",
      "_csv 1.0\n",
      "csv 1.0\n",
      "pandas 1.0.5\n",
      "pyparsing 2.4.7\n",
      "cycler 0.10.0\n",
      "kiwisolver 1.2.0\n",
      "matplotlib 3.2.2\n",
      "PIL._version 7.2.0\n",
      "PIL 7.2.0\n",
      "xml.etree.ElementTree 1.3.0\n",
      "cffi 1.14.0\n",
      "PIL.Image 7.2.0\n",
      "matplotlib.backends.backend_agg 3.2.2\n",
      "scipy 1.6.2\n",
      "scipy._lib.decorator 4.0.5\n",
      "scipy.linalg._fblas b'$Revision: $'\n",
      "scipy.linalg._flapack b'$Revision: $'\n",
      "scipy.linalg._flinalg b'$Revision: $'\n",
      "scipy.special.specfun b'$Revision: $'\n",
      "scipy.ndimage 2.0\n",
      "scipy.optimize.minpack2 b'$Revision: $'\n",
      "scipy.sparse.linalg.isolve._iterative b'$Revision: $'\n",
      "scipy.sparse.linalg.eigen.arpack._arpack b'$Revision: $'\n",
      "scipy.optimize._lbfgsb b'$Revision: $'\n",
      "scipy.optimize._cobyla b'$Revision: $'\n",
      "scipy.optimize._slsqp b'$Revision: $'\n",
      "scipy.optimize._minpack  1.10 \n",
      "scipy.optimize.__nnls b'$Revision: $'\n",
      "scipy.linalg._interpolative b'$Revision: $'\n",
      "scipy.integrate._odepack  1.9 \n",
      "scipy.integrate._quadpack  1.13 \n",
      "scipy.integrate.vode b'$Revision: $'\n",
      "scipy.integrate._dop b'$Revision: $'\n",
      "scipy.integrate.lsoda b'$Revision: $'\n",
      "scipy.integrate._ode $Id$\n",
      "scipy.interpolate._fitpack  1.7 \n",
      "scipy.interpolate.dfitpack b'$Revision: $'\n",
      "scipy.stats.statlib b'$Revision: $'\n",
      "scipy.stats.mvn b'$Revision: $'\n"
     ]
    }
   ],
   "source": [
    "# The following code was copied verbatim from\n",
    "# https://stackoverflow.com/questions/50395556/how-to-list-imported-modules-and-version-in-python3\n",
    "\n",
    "import sys\n",
    "for module in sys.modules:\n",
    "    try:\n",
    "        print(module,sys.modules[module].__version__)\n",
    "    except:\n",
    "        try:\n",
    "            if  type(modules[module].version) is str:\n",
    "                print(module,sys.modules[module].version)\n",
    "            else:\n",
    "                print(module,sys.modules[module].version())\n",
    "        except:\n",
    "            try:\n",
    "                print(module,sys.modules[module].VERSION)\n",
    "            except:\n",
    "                pass"
   ]
  },
  {
   "cell_type": "markdown",
   "metadata": {},
   "source": [
    "## *S. bongori*"
   ]
  },
  {
   "cell_type": "markdown",
   "metadata": {},
   "source": [
    "## Import the RunInfo Data"
   ]
  },
  {
   "cell_type": "markdown",
   "metadata": {},
   "source": [
    "The *S. bongori* RunInfo data is imported using the Pandas module `read_csv()` method and loaded as the object named `Sbongori`."
   ]
  },
  {
   "cell_type": "code",
   "execution_count": 92,
   "metadata": {},
   "outputs": [],
   "source": [
    "Sbongori = pd.read_csv(\"/home/chrisgaby/Documents/USDA/data/SRAfromEutils/SbongoriRunInfoXMLextract.tsv\", sep='\\t', header=None, names = ['Run', 'ReleaseDate', 'LoadDate', 'spots', 'bases', 'spots_with_mates', 'avgLength', 'size_MB', 'AssemblyName', 'download_path', 'Experiment', 'LibraryName', 'LibraryStrategy', 'LibrarySelection', 'LibrarySource', 'LibraryLayout', 'InsertSize', 'InsertDev', 'Platform', 'Model', 'SRAStudy', 'BioProject', 'ProjectID', 'Sample', 'BioSample', 'SampleType', 'TaxID', 'ScientificName', 'SampleName', 'Tumor', 'CenterName', 'Submission', 'Consent', 'RunHash', 'ReadHash'])"
   ]
  },
  {
   "cell_type": "markdown",
   "metadata": {},
   "source": [
    "Next, the columns of the `Sbongori` data object are explored by indexing. The `LibrarySource` column is of special relevance because we are only interested in genomic sequence data, not transcriptomic, metagenomic, or synthetic data."
   ]
  },
  {
   "cell_type": "code",
   "execution_count": 12,
   "metadata": {},
   "outputs": [
    {
     "data": {
      "text/plain": [
       "0      GENOMIC\n",
       "1      GENOMIC\n",
       "2      GENOMIC\n",
       "3      GENOMIC\n",
       "4      GENOMIC\n",
       "        ...   \n",
       "284    GENOMIC\n",
       "285    GENOMIC\n",
       "286    GENOMIC\n",
       "287    GENOMIC\n",
       "288    GENOMIC\n",
       "Name: LibrarySource, Length: 289, dtype: object"
      ]
     },
     "execution_count": 12,
     "metadata": {},
     "output_type": "execute_result"
    }
   ],
   "source": [
    "Sbongori[\"LibrarySource\"]"
   ]
  },
  {
   "cell_type": "code",
   "execution_count": 13,
   "metadata": {},
   "outputs": [
    {
     "data": {
      "text/plain": [
       "array(['GENOMIC', 'TRANSCRIPTOMIC', 'METAGENOMIC', 'SYNTHETIC'],\n",
       "      dtype=object)"
      ]
     },
     "execution_count": 13,
     "metadata": {},
     "output_type": "execute_result"
    }
   ],
   "source": [
    "Sbongori[\"LibrarySource\"].unique()"
   ]
  },
  {
   "cell_type": "markdown",
   "metadata": {},
   "source": [
    "The `dtypes` method lists the data types (e.g. integer, float, datetime, etc.) for each column of the pandas data table named `Sbongori`."
   ]
  },
  {
   "cell_type": "code",
   "execution_count": 109,
   "metadata": {},
   "outputs": [
    {
     "data": {
      "text/plain": [
       "Run                         object\n",
       "ReleaseDate         datetime64[ns]\n",
       "LoadDate            datetime64[ns]\n",
       "spots                        int64\n",
       "bases                        int64\n",
       "spots_with_mates             int64\n",
       "avgLength                    int64\n",
       "size_MB                      int64\n",
       "AssemblyName                object\n",
       "download_path               object\n",
       "Experiment                  object\n",
       "LibraryName                 object\n",
       "LibraryStrategy             object\n",
       "LibrarySelection            object\n",
       "LibrarySource             category\n",
       "LibraryLayout               object\n",
       "InsertSize                   int64\n",
       "InsertDev                    int64\n",
       "Platform                    object\n",
       "Model                       object\n",
       "SRAStudy                    object\n",
       "BioProject                  object\n",
       "ProjectID                    int64\n",
       "Sample                      object\n",
       "BioSample                   object\n",
       "SampleType                  object\n",
       "TaxID                        int64\n",
       "ScientificName              object\n",
       "SampleName                  object\n",
       "Tumor                       object\n",
       "CenterName                  object\n",
       "Submission                  object\n",
       "Consent                     object\n",
       "RunHash                     object\n",
       "ReadHash                    object\n",
       "dtype: object"
      ]
     },
     "execution_count": 109,
     "metadata": {},
     "output_type": "execute_result"
    }
   ],
   "source": [
    "Sbongori.dtypes"
   ]
  },
  {
   "cell_type": "markdown",
   "metadata": {},
   "source": [
    "Next, I run the same code as above for loading the *S. bongori* runinfo data, except for the following:\n",
    "\n",
    "1) The code is formatted by addition of line endings and automatic indentation that makes it visually easier to interpret.\n",
    "\n",
    "2) I have added the arguments to the `read_csv()` function that establish data types for a few columns, including two columns that are date-time data."
   ]
  },
  {
   "cell_type": "code",
   "execution_count": 113,
   "metadata": {},
   "outputs": [],
   "source": [
    "Sbongori = pd.read_csv(\"/home/chrisgaby/Documents/USDA/data/SRAfromEutils/SbongoriRunInfoXMLextract.tsv\",\n",
    "                       sep='\\t',\n",
    "                       header=None,\n",
    "                       names = ['Run',\n",
    "                                'ReleaseDate',\n",
    "                                'LoadDate',\n",
    "                                'spots',\n",
    "                                'bases',\n",
    "                                'spots_with_mates',\n",
    "                                'avgLength',\n",
    "                                'size_MB',\n",
    "                                'AssemblyName',\n",
    "                                'download_path',\n",
    "                                'Experiment',\n",
    "                                'LibraryName',\n",
    "                                'LibraryStrategy',\n",
    "                                'LibrarySelection',\n",
    "                                'LibrarySource',\n",
    "                                'LibraryLayout',\n",
    "                                'InsertSize',\n",
    "                                'InsertDev',\n",
    "                                'Platform',\n",
    "                                'Model',\n",
    "                                'SRAStudy',\n",
    "                                'BioProject',\n",
    "                                'ProjectID',\n",
    "                                'Sample',\n",
    "                                'BioSample',\n",
    "                                'SampleType',\n",
    "                                'TaxID',\n",
    "                                'ScientificName',\n",
    "                                'SampleName',\n",
    "                                'Tumor',\n",
    "                                'CenterName',\n",
    "                                'Submission',\n",
    "                                'Consent',\n",
    "                                'RunHash',\n",
    "                                'ReadHash'],\n",
    "                       dtype = {'LibrarySource': 'category'},\n",
    "                       parse_dates=['ReleaseDate', 'LoadDate'])"
   ]
  },
  {
   "cell_type": "markdown",
   "metadata": {},
   "source": [
    "## Boolean Data Selection"
   ]
  },
  {
   "cell_type": "markdown",
   "metadata": {},
   "source": [
    "I use boolean criteria to narrow down the data to only the genomic data sets that interest us. The following tests return TRUE or FALSE."
   ]
  },
  {
   "cell_type": "code",
   "execution_count": 95,
   "metadata": {},
   "outputs": [
    {
     "data": {
      "text/plain": [
       "0      True\n",
       "1      True\n",
       "2      True\n",
       "3      True\n",
       "4      True\n",
       "       ... \n",
       "284    True\n",
       "285    True\n",
       "286    True\n",
       "287    True\n",
       "288    True\n",
       "Name: LibrarySource, Length: 289, dtype: bool"
      ]
     },
     "execution_count": 95,
     "metadata": {},
     "output_type": "execute_result"
    }
   ],
   "source": [
    "Sbongori[\"LibrarySource\"] == \"GENOMIC\""
   ]
  },
  {
   "cell_type": "code",
   "execution_count": 14,
   "metadata": {},
   "outputs": [
    {
     "data": {
      "text/plain": [
       "0      False\n",
       "1      False\n",
       "2      False\n",
       "3      False\n",
       "4      False\n",
       "       ...  \n",
       "284    False\n",
       "285    False\n",
       "286    False\n",
       "287    False\n",
       "288    False\n",
       "Name: LibrarySource, Length: 289, dtype: bool"
      ]
     },
     "execution_count": 14,
     "metadata": {},
     "output_type": "execute_result"
    }
   ],
   "source": [
    "Sbongori[\"LibrarySource\"] == \"METAGENOMIC\""
   ]
  },
  {
   "cell_type": "markdown",
   "metadata": {},
   "source": [
    "The following is an example of how to obtain the indices of True or False values in a list."
   ]
  },
  {
   "cell_type": "code",
   "execution_count": 18,
   "metadata": {},
   "outputs": [
    {
     "data": {
      "text/plain": [
       "array([4, 5, 7])"
      ]
     },
     "execution_count": 18,
     "metadata": {},
     "output_type": "execute_result"
    }
   ],
   "source": [
    "# From https://stackoverflow.com/questions/21448225/getting-indices-of-true-values-in-a-boolean-list\n",
    "states = [False, False, False, False, True, True, False, True, False, False, False, False, False, False, False, False]\n",
    "np.where(states)[0]"
   ]
  },
  {
   "cell_type": "code",
   "execution_count": 19,
   "metadata": {},
   "outputs": [
    {
     "data": {
      "text/plain": [
       "array([154, 155, 156, 157, 158, 159, 221, 222, 223, 224, 225, 226, 227,\n",
       "       228, 229, 230, 231, 232, 233, 234, 235, 236, 237, 238, 239, 240,\n",
       "       241, 242, 243, 244, 245, 246, 247, 248, 249, 250, 251, 252, 253,\n",
       "       254, 255])"
      ]
     },
     "execution_count": 19,
     "metadata": {},
     "output_type": "execute_result"
    }
   ],
   "source": [
    "np.where(Sbongori[\"LibrarySource\"] == \"METAGENOMIC\")[0]"
   ]
  },
  {
   "cell_type": "markdown",
   "metadata": {},
   "source": [
    "The following returns the Library Source value where the `LibrarySource` column contains the value `METAGENOMIC`."
   ]
  },
  {
   "cell_type": "code",
   "execution_count": 20,
   "metadata": {},
   "outputs": [
    {
     "data": {
      "text/plain": [
       "154    METAGENOMIC\n",
       "155    METAGENOMIC\n",
       "156    METAGENOMIC\n",
       "157    METAGENOMIC\n",
       "158    METAGENOMIC\n",
       "159    METAGENOMIC\n",
       "221    METAGENOMIC\n",
       "222    METAGENOMIC\n",
       "223    METAGENOMIC\n",
       "224    METAGENOMIC\n",
       "225    METAGENOMIC\n",
       "226    METAGENOMIC\n",
       "227    METAGENOMIC\n",
       "228    METAGENOMIC\n",
       "229    METAGENOMIC\n",
       "230    METAGENOMIC\n",
       "231    METAGENOMIC\n",
       "232    METAGENOMIC\n",
       "233    METAGENOMIC\n",
       "234    METAGENOMIC\n",
       "235    METAGENOMIC\n",
       "236    METAGENOMIC\n",
       "237    METAGENOMIC\n",
       "238    METAGENOMIC\n",
       "239    METAGENOMIC\n",
       "240    METAGENOMIC\n",
       "241    METAGENOMIC\n",
       "242    METAGENOMIC\n",
       "243    METAGENOMIC\n",
       "244    METAGENOMIC\n",
       "245    METAGENOMIC\n",
       "246    METAGENOMIC\n",
       "247    METAGENOMIC\n",
       "248    METAGENOMIC\n",
       "249    METAGENOMIC\n",
       "250    METAGENOMIC\n",
       "251    METAGENOMIC\n",
       "252    METAGENOMIC\n",
       "253    METAGENOMIC\n",
       "254    METAGENOMIC\n",
       "255    METAGENOMIC\n",
       "Name: LibrarySource, dtype: object"
      ]
     },
     "execution_count": 20,
     "metadata": {},
     "output_type": "execute_result"
    }
   ],
   "source": [
    "Sbongori[\"LibrarySource\"][np.where(Sbongori[\"LibrarySource\"] == \"METAGENOMIC\")[0]]"
   ]
  },
  {
   "cell_type": "markdown",
   "metadata": {},
   "source": [
    "The following code returns all columns of the `Sbongori` dataframe where `LibrarySource` is `METAGENOMIC`."
   ]
  },
  {
   "cell_type": "code",
   "execution_count": 22,
   "metadata": {
    "scrolled": true
   },
   "outputs": [
    {
     "data": {
      "text/html": [
       "<div>\n",
       "<style scoped>\n",
       "    .dataframe tbody tr th:only-of-type {\n",
       "        vertical-align: middle;\n",
       "    }\n",
       "\n",
       "    .dataframe tbody tr th {\n",
       "        vertical-align: top;\n",
       "    }\n",
       "\n",
       "    .dataframe thead th {\n",
       "        text-align: right;\n",
       "    }\n",
       "</style>\n",
       "<table border=\"1\" class=\"dataframe\">\n",
       "  <thead>\n",
       "    <tr style=\"text-align: right;\">\n",
       "      <th></th>\n",
       "      <th>Run</th>\n",
       "      <th>ReleaseDate</th>\n",
       "      <th>LoadDate</th>\n",
       "      <th>spots</th>\n",
       "      <th>bases</th>\n",
       "      <th>spots_with_mates</th>\n",
       "      <th>avgLength</th>\n",
       "      <th>size_MB</th>\n",
       "      <th>AssemblyName</th>\n",
       "      <th>download_path</th>\n",
       "      <th>...</th>\n",
       "      <th>SampleType</th>\n",
       "      <th>TaxID</th>\n",
       "      <th>ScientificName</th>\n",
       "      <th>SampleName</th>\n",
       "      <th>Tumor</th>\n",
       "      <th>CenterName</th>\n",
       "      <th>Submission</th>\n",
       "      <th>Consent</th>\n",
       "      <th>RunHash</th>\n",
       "      <th>ReadHash</th>\n",
       "    </tr>\n",
       "  </thead>\n",
       "  <tbody>\n",
       "    <tr>\n",
       "      <th>154</th>\n",
       "      <td>SRR6487812</td>\n",
       "      <td>2018-02-23 12:40:27</td>\n",
       "      <td>2018-02-23 10:59:14</td>\n",
       "      <td>221182</td>\n",
       "      <td>87186102</td>\n",
       "      <td>220815</td>\n",
       "      <td>394</td>\n",
       "      <td>31</td>\n",
       "      <td>assembly</td>\n",
       "      <td>https://sra-downloadb.st-va.ncbi.nlm.nih.gov/s...</td>\n",
       "      <td>...</td>\n",
       "      <td>simple</td>\n",
       "      <td>54736</td>\n",
       "      <td>Salmonella bongori</td>\n",
       "      <td>UBA11429</td>\n",
       "      <td>no</td>\n",
       "      <td>UNIVERSITY OF QUEENSLAND</td>\n",
       "      <td>SRA648617</td>\n",
       "      <td>public</td>\n",
       "      <td>53C0B3B385CC3F54C9F5B034927DBA5E</td>\n",
       "      <td>22053BAECF18092886C96346CCC8B739</td>\n",
       "    </tr>\n",
       "    <tr>\n",
       "      <th>155</th>\n",
       "      <td>SRR6488136</td>\n",
       "      <td>2018-02-23 12:40:30</td>\n",
       "      <td>2018-02-23 10:59:08</td>\n",
       "      <td>54887</td>\n",
       "      <td>20016434</td>\n",
       "      <td>54077</td>\n",
       "      <td>364</td>\n",
       "      <td>7</td>\n",
       "      <td>assembly</td>\n",
       "      <td>https://sra-downloadb.st-va.ncbi.nlm.nih.gov/s...</td>\n",
       "      <td>...</td>\n",
       "      <td>simple</td>\n",
       "      <td>54736</td>\n",
       "      <td>Salmonella bongori</td>\n",
       "      <td>UBA11430</td>\n",
       "      <td>no</td>\n",
       "      <td>UNIVERSITY OF QUEENSLAND</td>\n",
       "      <td>SRA648617</td>\n",
       "      <td>public</td>\n",
       "      <td>0EB4121A1D81B50D441A83F85165C065</td>\n",
       "      <td>FF8320EDCDFD5E300624F63800598DDB</td>\n",
       "    </tr>\n",
       "    <tr>\n",
       "      <th>156</th>\n",
       "      <td>SRR6487904</td>\n",
       "      <td>2018-02-23 12:48:18</td>\n",
       "      <td>2018-02-23 11:09:12</td>\n",
       "      <td>240942</td>\n",
       "      <td>90329089</td>\n",
       "      <td>240666</td>\n",
       "      <td>374</td>\n",
       "      <td>33</td>\n",
       "      <td>assembly</td>\n",
       "      <td>https://sra-downloadb.st-va.ncbi.nlm.nih.gov/s...</td>\n",
       "      <td>...</td>\n",
       "      <td>simple</td>\n",
       "      <td>54736</td>\n",
       "      <td>Salmonella bongori</td>\n",
       "      <td>UBA12264</td>\n",
       "      <td>no</td>\n",
       "      <td>UNIVERSITY OF QUEENSLAND</td>\n",
       "      <td>SRA648617</td>\n",
       "      <td>public</td>\n",
       "      <td>24225FE88A0179A40FA56E03855B5139</td>\n",
       "      <td>7C15C6BDDEC535FA6039B99A45F01AD1</td>\n",
       "    </tr>\n",
       "    <tr>\n",
       "      <th>157</th>\n",
       "      <td>SRR6486182</td>\n",
       "      <td>2018-02-23 11:04:17</td>\n",
       "      <td>2018-02-23 10:39:38</td>\n",
       "      <td>231391</td>\n",
       "      <td>82757279</td>\n",
       "      <td>230861</td>\n",
       "      <td>357</td>\n",
       "      <td>34</td>\n",
       "      <td>assembly</td>\n",
       "      <td>https://sra-downloadb.st-va.ncbi.nlm.nih.gov/s...</td>\n",
       "      <td>...</td>\n",
       "      <td>simple</td>\n",
       "      <td>54736</td>\n",
       "      <td>Salmonella bongori</td>\n",
       "      <td>UBA7987</td>\n",
       "      <td>no</td>\n",
       "      <td>UNIVERSITY OF QUEENSLAND</td>\n",
       "      <td>SRA648474</td>\n",
       "      <td>public</td>\n",
       "      <td>A17562EFC6D6D8745868B08614224FD3</td>\n",
       "      <td>FCB16BC82EDCEBFED73B9E752A082F90</td>\n",
       "    </tr>\n",
       "    <tr>\n",
       "      <th>158</th>\n",
       "      <td>SRR6486173</td>\n",
       "      <td>2018-02-23 11:04:17</td>\n",
       "      <td>2018-02-23 10:39:48</td>\n",
       "      <td>560318</td>\n",
       "      <td>222849850</td>\n",
       "      <td>559525</td>\n",
       "      <td>397</td>\n",
       "      <td>79</td>\n",
       "      <td>assembly</td>\n",
       "      <td>https://sra-downloadb.st-va.ncbi.nlm.nih.gov/s...</td>\n",
       "      <td>...</td>\n",
       "      <td>simple</td>\n",
       "      <td>54736</td>\n",
       "      <td>Salmonella bongori</td>\n",
       "      <td>UBA7988</td>\n",
       "      <td>no</td>\n",
       "      <td>UNIVERSITY OF QUEENSLAND</td>\n",
       "      <td>SRA648474</td>\n",
       "      <td>public</td>\n",
       "      <td>7609B2DC4B88FB9BE4B6AF6BE9C9F2B9</td>\n",
       "      <td>134645CB44CF88155385382A8B2E2B12</td>\n",
       "    </tr>\n",
       "    <tr>\n",
       "      <th>159</th>\n",
       "      <td>SRR6485951</td>\n",
       "      <td>2018-02-23 11:06:18</td>\n",
       "      <td>2018-02-23 10:39:51</td>\n",
       "      <td>522545</td>\n",
       "      <td>187169652</td>\n",
       "      <td>522136</td>\n",
       "      <td>358</td>\n",
       "      <td>67</td>\n",
       "      <td>assembly</td>\n",
       "      <td>https://sra-downloadb.st-va.ncbi.nlm.nih.gov/s...</td>\n",
       "      <td>...</td>\n",
       "      <td>simple</td>\n",
       "      <td>54736</td>\n",
       "      <td>Salmonella bongori</td>\n",
       "      <td>UBA7989</td>\n",
       "      <td>no</td>\n",
       "      <td>UNIVERSITY OF QUEENSLAND</td>\n",
       "      <td>SRA648474</td>\n",
       "      <td>public</td>\n",
       "      <td>3528467D1307D6DF39FD0DDCE1050CB1</td>\n",
       "      <td>208B84367C5C9BAE57C4BE108767138A</td>\n",
       "    </tr>\n",
       "    <tr>\n",
       "      <th>221</th>\n",
       "      <td>ERR588920</td>\n",
       "      <td>2014-08-31 23:02:31</td>\n",
       "      <td>2014-08-31 23:12:34</td>\n",
       "      <td>224694</td>\n",
       "      <td>88637960</td>\n",
       "      <td>224694</td>\n",
       "      <td>394</td>\n",
       "      <td>48</td>\n",
       "      <td>-</td>\n",
       "      <td>https://sra-downloadb.st-va.ncbi.nlm.nih.gov/s...</td>\n",
       "      <td>...</td>\n",
       "      <td>simple</td>\n",
       "      <td>54736</td>\n",
       "      <td>Salmonella bongori</td>\n",
       "      <td>SAMEA2735021</td>\n",
       "      <td>no</td>\n",
       "      <td>UBP-CNRS</td>\n",
       "      <td>ERA352818</td>\n",
       "      <td>public</td>\n",
       "      <td>D83AAE221F5B63E9A77B35856BAF96D8</td>\n",
       "      <td>2BC6C1CEFFC24F95300EF50CE0565E7A</td>\n",
       "    </tr>\n",
       "    <tr>\n",
       "      <th>222</th>\n",
       "      <td>ERR588921</td>\n",
       "      <td>2014-08-31 23:02:30</td>\n",
       "      <td>2014-08-31 23:11:00</td>\n",
       "      <td>98017</td>\n",
       "      <td>36050172</td>\n",
       "      <td>98017</td>\n",
       "      <td>367</td>\n",
       "      <td>20</td>\n",
       "      <td>-</td>\n",
       "      <td>https://sra-downloadb.st-va.ncbi.nlm.nih.gov/s...</td>\n",
       "      <td>...</td>\n",
       "      <td>simple</td>\n",
       "      <td>54736</td>\n",
       "      <td>Salmonella bongori</td>\n",
       "      <td>SAMEA2735022</td>\n",
       "      <td>no</td>\n",
       "      <td>UBP-CNRS</td>\n",
       "      <td>ERA352818</td>\n",
       "      <td>public</td>\n",
       "      <td>A6887C3EFE6E669426374D144F2AC36A</td>\n",
       "      <td>22B15239A9E6AEC2FFF69C2649BB9A03</td>\n",
       "    </tr>\n",
       "    <tr>\n",
       "      <th>223</th>\n",
       "      <td>ERR588922</td>\n",
       "      <td>2014-08-31 23:02:30</td>\n",
       "      <td>2014-08-31 23:11:05</td>\n",
       "      <td>210</td>\n",
       "      <td>71858</td>\n",
       "      <td>210</td>\n",
       "      <td>342</td>\n",
       "      <td>0</td>\n",
       "      <td>-</td>\n",
       "      <td>https://sra-downloadb.st-va.ncbi.nlm.nih.gov/s...</td>\n",
       "      <td>...</td>\n",
       "      <td>simple</td>\n",
       "      <td>54736</td>\n",
       "      <td>Salmonella bongori</td>\n",
       "      <td>SAMEA2735023</td>\n",
       "      <td>no</td>\n",
       "      <td>UBP-CNRS</td>\n",
       "      <td>ERA352818</td>\n",
       "      <td>public</td>\n",
       "      <td>D34D0FFE44B9929479D72D4E0036C779</td>\n",
       "      <td>E9AEBB429E7F8071114C27440315025C</td>\n",
       "    </tr>\n",
       "    <tr>\n",
       "      <th>224</th>\n",
       "      <td>ERR588923</td>\n",
       "      <td>2014-08-31 23:02:30</td>\n",
       "      <td>2014-08-31 23:11:09</td>\n",
       "      <td>79</td>\n",
       "      <td>25969</td>\n",
       "      <td>79</td>\n",
       "      <td>328</td>\n",
       "      <td>0</td>\n",
       "      <td>-</td>\n",
       "      <td>https://sra-downloadb.st-va.ncbi.nlm.nih.gov/s...</td>\n",
       "      <td>...</td>\n",
       "      <td>simple</td>\n",
       "      <td>54736</td>\n",
       "      <td>Salmonella bongori</td>\n",
       "      <td>SAMEA2735024</td>\n",
       "      <td>no</td>\n",
       "      <td>UBP-CNRS</td>\n",
       "      <td>ERA352818</td>\n",
       "      <td>public</td>\n",
       "      <td>17D6C212FCBC38A422954AB9924906EC</td>\n",
       "      <td>5531B89EFA197B2C15686C72A35CE1D4</td>\n",
       "    </tr>\n",
       "    <tr>\n",
       "      <th>225</th>\n",
       "      <td>ERR588924</td>\n",
       "      <td>2014-08-31 23:02:30</td>\n",
       "      <td>2014-08-31 23:11:16</td>\n",
       "      <td>9</td>\n",
       "      <td>2671</td>\n",
       "      <td>9</td>\n",
       "      <td>296</td>\n",
       "      <td>0</td>\n",
       "      <td>-</td>\n",
       "      <td>https://sra-downloadb.st-va.ncbi.nlm.nih.gov/s...</td>\n",
       "      <td>...</td>\n",
       "      <td>simple</td>\n",
       "      <td>54736</td>\n",
       "      <td>Salmonella bongori</td>\n",
       "      <td>SAMEA2735025</td>\n",
       "      <td>no</td>\n",
       "      <td>UBP-CNRS</td>\n",
       "      <td>ERA352818</td>\n",
       "      <td>public</td>\n",
       "      <td>C2898B2D40B9612FF80BCA952AFE5FBC</td>\n",
       "      <td>D7393CEFB08235793D95548CD6C74114</td>\n",
       "    </tr>\n",
       "    <tr>\n",
       "      <th>226</th>\n",
       "      <td>ERR588925</td>\n",
       "      <td>2014-08-31 23:02:31</td>\n",
       "      <td>2014-08-31 23:12:35</td>\n",
       "      <td>17</td>\n",
       "      <td>5494</td>\n",
       "      <td>17</td>\n",
       "      <td>323</td>\n",
       "      <td>0</td>\n",
       "      <td>-</td>\n",
       "      <td>https://sra-downloadb.st-va.ncbi.nlm.nih.gov/s...</td>\n",
       "      <td>...</td>\n",
       "      <td>simple</td>\n",
       "      <td>54736</td>\n",
       "      <td>Salmonella bongori</td>\n",
       "      <td>SAMEA2735026</td>\n",
       "      <td>no</td>\n",
       "      <td>UBP-CNRS</td>\n",
       "      <td>ERA352818</td>\n",
       "      <td>public</td>\n",
       "      <td>91325614D62C8761CCD801442C5C458C</td>\n",
       "      <td>DCA564AFC50B2E52C3C482BEC3BF545C</td>\n",
       "    </tr>\n",
       "    <tr>\n",
       "      <th>227</th>\n",
       "      <td>ERR588926</td>\n",
       "      <td>2014-08-31 23:02:31</td>\n",
       "      <td>2014-08-31 23:12:38</td>\n",
       "      <td>17</td>\n",
       "      <td>4459</td>\n",
       "      <td>17</td>\n",
       "      <td>262</td>\n",
       "      <td>0</td>\n",
       "      <td>-</td>\n",
       "      <td>https://sra-downloadb.st-va.ncbi.nlm.nih.gov/s...</td>\n",
       "      <td>...</td>\n",
       "      <td>simple</td>\n",
       "      <td>54736</td>\n",
       "      <td>Salmonella bongori</td>\n",
       "      <td>SAMEA2735027</td>\n",
       "      <td>no</td>\n",
       "      <td>UBP-CNRS</td>\n",
       "      <td>ERA352818</td>\n",
       "      <td>public</td>\n",
       "      <td>704AB419B8631D4A13FE9267F8DD4BF1</td>\n",
       "      <td>B3B5A18A4C8D500444368C68FA81CC1D</td>\n",
       "    </tr>\n",
       "    <tr>\n",
       "      <th>228</th>\n",
       "      <td>ERR588927</td>\n",
       "      <td>2014-08-31 23:02:31</td>\n",
       "      <td>2014-08-31 23:12:40</td>\n",
       "      <td>15</td>\n",
       "      <td>4662</td>\n",
       "      <td>15</td>\n",
       "      <td>310</td>\n",
       "      <td>0</td>\n",
       "      <td>-</td>\n",
       "      <td>https://sra-downloadb.st-va.ncbi.nlm.nih.gov/s...</td>\n",
       "      <td>...</td>\n",
       "      <td>simple</td>\n",
       "      <td>54736</td>\n",
       "      <td>Salmonella bongori</td>\n",
       "      <td>SAMEA2735028</td>\n",
       "      <td>no</td>\n",
       "      <td>UBP-CNRS</td>\n",
       "      <td>ERA352818</td>\n",
       "      <td>public</td>\n",
       "      <td>5A88E98859A262CF1F133A1700DDD328</td>\n",
       "      <td>D5DED073C2F80C50CF7500230601D93F</td>\n",
       "    </tr>\n",
       "    <tr>\n",
       "      <th>229</th>\n",
       "      <td>ERR588928</td>\n",
       "      <td>2014-08-31 23:02:31</td>\n",
       "      <td>2014-08-31 23:12:29</td>\n",
       "      <td>12</td>\n",
       "      <td>3950</td>\n",
       "      <td>12</td>\n",
       "      <td>329</td>\n",
       "      <td>0</td>\n",
       "      <td>-</td>\n",
       "      <td>https://sra-downloadb.st-va.ncbi.nlm.nih.gov/s...</td>\n",
       "      <td>...</td>\n",
       "      <td>simple</td>\n",
       "      <td>54736</td>\n",
       "      <td>Salmonella bongori</td>\n",
       "      <td>SAMEA2735029</td>\n",
       "      <td>no</td>\n",
       "      <td>UBP-CNRS</td>\n",
       "      <td>ERA352818</td>\n",
       "      <td>public</td>\n",
       "      <td>31D940673E67F7FC500C44D6CAC154C1</td>\n",
       "      <td>C37C5E77C86851CC1E67B2DFCA98BE1B</td>\n",
       "    </tr>\n",
       "    <tr>\n",
       "      <th>230</th>\n",
       "      <td>ERR588929</td>\n",
       "      <td>2014-08-31 23:02:31</td>\n",
       "      <td>2014-08-31 23:12:22</td>\n",
       "      <td>13</td>\n",
       "      <td>4938</td>\n",
       "      <td>13</td>\n",
       "      <td>379</td>\n",
       "      <td>0</td>\n",
       "      <td>-</td>\n",
       "      <td>https://sra-downloadb.st-va.ncbi.nlm.nih.gov/s...</td>\n",
       "      <td>...</td>\n",
       "      <td>simple</td>\n",
       "      <td>54736</td>\n",
       "      <td>Salmonella bongori</td>\n",
       "      <td>SAMEA2735030</td>\n",
       "      <td>no</td>\n",
       "      <td>UBP-CNRS</td>\n",
       "      <td>ERA352818</td>\n",
       "      <td>public</td>\n",
       "      <td>1382A6885CD14786D5418307AEC7C3C5</td>\n",
       "      <td>3E94794F862901FBD1CF129E6E5C2AB0</td>\n",
       "    </tr>\n",
       "    <tr>\n",
       "      <th>231</th>\n",
       "      <td>ERR588930</td>\n",
       "      <td>2014-08-31 23:02:31</td>\n",
       "      <td>2014-08-31 23:12:26</td>\n",
       "      <td>247020</td>\n",
       "      <td>88549996</td>\n",
       "      <td>247020</td>\n",
       "      <td>358</td>\n",
       "      <td>53</td>\n",
       "      <td>-</td>\n",
       "      <td>https://sra-downloadb.st-va.ncbi.nlm.nih.gov/s...</td>\n",
       "      <td>...</td>\n",
       "      <td>simple</td>\n",
       "      <td>54736</td>\n",
       "      <td>Salmonella bongori</td>\n",
       "      <td>SAMEA2735031</td>\n",
       "      <td>no</td>\n",
       "      <td>UBP-CNRS</td>\n",
       "      <td>ERA352818</td>\n",
       "      <td>public</td>\n",
       "      <td>AB47B9F6F3757F0A4979BD341B1A98C6</td>\n",
       "      <td>4333E5C358DC565718FE9C8DC1729A79</td>\n",
       "    </tr>\n",
       "    <tr>\n",
       "      <th>232</th>\n",
       "      <td>ERR588931</td>\n",
       "      <td>2014-08-31 23:02:31</td>\n",
       "      <td>2014-08-31 23:12:36</td>\n",
       "      <td>576405</td>\n",
       "      <td>229360960</td>\n",
       "      <td>576405</td>\n",
       "      <td>397</td>\n",
       "      <td>127</td>\n",
       "      <td>-</td>\n",
       "      <td>https://sra-downloadb.st-va.ncbi.nlm.nih.gov/s...</td>\n",
       "      <td>...</td>\n",
       "      <td>simple</td>\n",
       "      <td>54736</td>\n",
       "      <td>Salmonella bongori</td>\n",
       "      <td>SAMEA2735032</td>\n",
       "      <td>no</td>\n",
       "      <td>UBP-CNRS</td>\n",
       "      <td>ERA352818</td>\n",
       "      <td>public</td>\n",
       "      <td>06F46A6603C4AB415E033C359BBBC649</td>\n",
       "      <td>A8F5D66532F6A14018254B33BE6F6E27</td>\n",
       "    </tr>\n",
       "    <tr>\n",
       "      <th>233</th>\n",
       "      <td>ERR588932</td>\n",
       "      <td>2014-08-31 23:02:31</td>\n",
       "      <td>2014-08-31 23:12:56</td>\n",
       "      <td>541918</td>\n",
       "      <td>193969284</td>\n",
       "      <td>541918</td>\n",
       "      <td>357</td>\n",
       "      <td>108</td>\n",
       "      <td>-</td>\n",
       "      <td>https://sra-downloadb.st-va.ncbi.nlm.nih.gov/s...</td>\n",
       "      <td>...</td>\n",
       "      <td>simple</td>\n",
       "      <td>54736</td>\n",
       "      <td>Salmonella bongori</td>\n",
       "      <td>SAMEA2735033</td>\n",
       "      <td>no</td>\n",
       "      <td>UBP-CNRS</td>\n",
       "      <td>ERA352818</td>\n",
       "      <td>public</td>\n",
       "      <td>F42DB6E0AD8A59F69C37B4BD479BC0A9</td>\n",
       "      <td>F77920BE6C0569E3900491276E598246</td>\n",
       "    </tr>\n",
       "    <tr>\n",
       "      <th>234</th>\n",
       "      <td>ERR588933</td>\n",
       "      <td>2014-08-31 23:02:30</td>\n",
       "      <td>2014-08-31 23:12:10</td>\n",
       "      <td>17674</td>\n",
       "      <td>6039525</td>\n",
       "      <td>17674</td>\n",
       "      <td>341</td>\n",
       "      <td>3</td>\n",
       "      <td>-</td>\n",
       "      <td>https://sra-downloadb.st-va.ncbi.nlm.nih.gov/s...</td>\n",
       "      <td>...</td>\n",
       "      <td>simple</td>\n",
       "      <td>54736</td>\n",
       "      <td>Salmonella bongori</td>\n",
       "      <td>SAMEA2735034</td>\n",
       "      <td>no</td>\n",
       "      <td>UBP-CNRS</td>\n",
       "      <td>ERA352818</td>\n",
       "      <td>public</td>\n",
       "      <td>1B0901FA6D7652E7EBCECD89FFD2C78A</td>\n",
       "      <td>D2E2D0E8527DA4F3F784F71F2A6228F9</td>\n",
       "    </tr>\n",
       "    <tr>\n",
       "      <th>235</th>\n",
       "      <td>ERR588934</td>\n",
       "      <td>2014-08-31 23:02:30</td>\n",
       "      <td>2014-08-31 23:12:16</td>\n",
       "      <td>36721</td>\n",
       "      <td>12901441</td>\n",
       "      <td>36721</td>\n",
       "      <td>351</td>\n",
       "      <td>7</td>\n",
       "      <td>-</td>\n",
       "      <td>https://sra-downloadb.st-va.ncbi.nlm.nih.gov/s...</td>\n",
       "      <td>...</td>\n",
       "      <td>simple</td>\n",
       "      <td>54736</td>\n",
       "      <td>Salmonella bongori</td>\n",
       "      <td>SAMEA2735035</td>\n",
       "      <td>no</td>\n",
       "      <td>UBP-CNRS</td>\n",
       "      <td>ERA352818</td>\n",
       "      <td>public</td>\n",
       "      <td>C5EF2A01BFAF9D52A3FB7684E2F41CD6</td>\n",
       "      <td>09E9FFE1F3843241157BCBD2906597BF</td>\n",
       "    </tr>\n",
       "    <tr>\n",
       "      <th>236</th>\n",
       "      <td>ERR588935</td>\n",
       "      <td>2014-08-31 23:02:31</td>\n",
       "      <td>2014-08-31 23:12:16</td>\n",
       "      <td>7212</td>\n",
       "      <td>2360529</td>\n",
       "      <td>7212</td>\n",
       "      <td>327</td>\n",
       "      <td>1</td>\n",
       "      <td>-</td>\n",
       "      <td>https://sra-downloadb.st-va.ncbi.nlm.nih.gov/s...</td>\n",
       "      <td>...</td>\n",
       "      <td>simple</td>\n",
       "      <td>54736</td>\n",
       "      <td>Salmonella bongori</td>\n",
       "      <td>SAMEA2735036</td>\n",
       "      <td>no</td>\n",
       "      <td>UBP-CNRS</td>\n",
       "      <td>ERA352818</td>\n",
       "      <td>public</td>\n",
       "      <td>2E8A67D13BD217BAE990D20B99A99B15</td>\n",
       "      <td>BA329D63E434EFBA54D673434F0CCB7B</td>\n",
       "    </tr>\n",
       "    <tr>\n",
       "      <th>237</th>\n",
       "      <td>ERR588936</td>\n",
       "      <td>2014-08-31 23:02:30</td>\n",
       "      <td>2014-08-31 23:11:47</td>\n",
       "      <td>5305</td>\n",
       "      <td>1662217</td>\n",
       "      <td>5305</td>\n",
       "      <td>313</td>\n",
       "      <td>0</td>\n",
       "      <td>-</td>\n",
       "      <td>https://sra-downloadb.st-va.ncbi.nlm.nih.gov/s...</td>\n",
       "      <td>...</td>\n",
       "      <td>simple</td>\n",
       "      <td>54736</td>\n",
       "      <td>Salmonella bongori</td>\n",
       "      <td>SAMEA2735037</td>\n",
       "      <td>no</td>\n",
       "      <td>UBP-CNRS</td>\n",
       "      <td>ERA352818</td>\n",
       "      <td>public</td>\n",
       "      <td>634FFF1517FEADB0D328616BACEBB542</td>\n",
       "      <td>F1764EAEAC308FB25A8A37EDEFED00FF</td>\n",
       "    </tr>\n",
       "    <tr>\n",
       "      <th>238</th>\n",
       "      <td>ERR588937</td>\n",
       "      <td>2014-08-31 23:02:30</td>\n",
       "      <td>2014-08-31 23:12:01</td>\n",
       "      <td>4964</td>\n",
       "      <td>1622114</td>\n",
       "      <td>4964</td>\n",
       "      <td>326</td>\n",
       "      <td>0</td>\n",
       "      <td>-</td>\n",
       "      <td>https://sra-downloadb.st-va.ncbi.nlm.nih.gov/s...</td>\n",
       "      <td>...</td>\n",
       "      <td>simple</td>\n",
       "      <td>54736</td>\n",
       "      <td>Salmonella bongori</td>\n",
       "      <td>SAMEA2735038</td>\n",
       "      <td>no</td>\n",
       "      <td>UBP-CNRS</td>\n",
       "      <td>ERA352818</td>\n",
       "      <td>public</td>\n",
       "      <td>24540C2A3C40FF24D0818566D8DC379B</td>\n",
       "      <td>CC448FD60AD4216096189576AB2DF730</td>\n",
       "    </tr>\n",
       "    <tr>\n",
       "      <th>239</th>\n",
       "      <td>ERR588938</td>\n",
       "      <td>2014-08-31 23:02:30</td>\n",
       "      <td>2014-08-31 23:12:04</td>\n",
       "      <td>1726</td>\n",
       "      <td>572179</td>\n",
       "      <td>1726</td>\n",
       "      <td>331</td>\n",
       "      <td>0</td>\n",
       "      <td>-</td>\n",
       "      <td>https://sra-downloadb.st-va.ncbi.nlm.nih.gov/s...</td>\n",
       "      <td>...</td>\n",
       "      <td>simple</td>\n",
       "      <td>54736</td>\n",
       "      <td>Salmonella bongori</td>\n",
       "      <td>SAMEA2735039</td>\n",
       "      <td>no</td>\n",
       "      <td>UBP-CNRS</td>\n",
       "      <td>ERA352818</td>\n",
       "      <td>public</td>\n",
       "      <td>A36160ACDA7C61DCC037A369E79D1973</td>\n",
       "      <td>50FE3759266289F83BAD3A3840721B78</td>\n",
       "    </tr>\n",
       "    <tr>\n",
       "      <th>240</th>\n",
       "      <td>ERR588939</td>\n",
       "      <td>2014-08-31 23:02:31</td>\n",
       "      <td>2014-08-31 23:12:42</td>\n",
       "      <td>4261</td>\n",
       "      <td>1402675</td>\n",
       "      <td>4261</td>\n",
       "      <td>329</td>\n",
       "      <td>0</td>\n",
       "      <td>-</td>\n",
       "      <td>https://sra-downloadb.st-va.ncbi.nlm.nih.gov/s...</td>\n",
       "      <td>...</td>\n",
       "      <td>simple</td>\n",
       "      <td>54736</td>\n",
       "      <td>Salmonella bongori</td>\n",
       "      <td>SAMEA2735040</td>\n",
       "      <td>no</td>\n",
       "      <td>UBP-CNRS</td>\n",
       "      <td>ERA352818</td>\n",
       "      <td>public</td>\n",
       "      <td>45DBEA56B5D0DAFAE2A9F2C0229CEC0D</td>\n",
       "      <td>58C7C12526E8DC254737B7E533ACE568</td>\n",
       "    </tr>\n",
       "    <tr>\n",
       "      <th>241</th>\n",
       "      <td>ERR588940</td>\n",
       "      <td>2014-08-31 23:02:31</td>\n",
       "      <td>2014-08-31 23:12:54</td>\n",
       "      <td>249329</td>\n",
       "      <td>93481373</td>\n",
       "      <td>249329</td>\n",
       "      <td>374</td>\n",
       "      <td>51</td>\n",
       "      <td>-</td>\n",
       "      <td>https://sra-downloadb.st-va.ncbi.nlm.nih.gov/s...</td>\n",
       "      <td>...</td>\n",
       "      <td>simple</td>\n",
       "      <td>54736</td>\n",
       "      <td>Salmonella bongori</td>\n",
       "      <td>SAMEA2735041</td>\n",
       "      <td>no</td>\n",
       "      <td>UBP-CNRS</td>\n",
       "      <td>ERA352818</td>\n",
       "      <td>public</td>\n",
       "      <td>E409D5BA466D33BAF4BA33F2A216F3B3</td>\n",
       "      <td>07C7DBA1FF8AD9539BF176E3D94E59BB</td>\n",
       "    </tr>\n",
       "    <tr>\n",
       "      <th>242</th>\n",
       "      <td>ERR588941</td>\n",
       "      <td>2014-08-31 23:02:31</td>\n",
       "      <td>2014-08-31 23:16:53</td>\n",
       "      <td>93446</td>\n",
       "      <td>33446109</td>\n",
       "      <td>93446</td>\n",
       "      <td>357</td>\n",
       "      <td>18</td>\n",
       "      <td>-</td>\n",
       "      <td>https://sra-downloadb.st-va.ncbi.nlm.nih.gov/s...</td>\n",
       "      <td>...</td>\n",
       "      <td>simple</td>\n",
       "      <td>54736</td>\n",
       "      <td>Salmonella bongori</td>\n",
       "      <td>SAMEA2735042</td>\n",
       "      <td>no</td>\n",
       "      <td>UBP-CNRS</td>\n",
       "      <td>ERA352818</td>\n",
       "      <td>public</td>\n",
       "      <td>E533A90FB3C6145922AC172F6B194713</td>\n",
       "      <td>F3CC431FD70D9846CF1A45291E5B5932</td>\n",
       "    </tr>\n",
       "    <tr>\n",
       "      <th>243</th>\n",
       "      <td>ERR588942</td>\n",
       "      <td>2014-08-31 23:02:31</td>\n",
       "      <td>2014-08-31 23:16:59</td>\n",
       "      <td>20553</td>\n",
       "      <td>6847916</td>\n",
       "      <td>20553</td>\n",
       "      <td>333</td>\n",
       "      <td>3</td>\n",
       "      <td>-</td>\n",
       "      <td>https://sra-downloadb.st-va.ncbi.nlm.nih.gov/s...</td>\n",
       "      <td>...</td>\n",
       "      <td>simple</td>\n",
       "      <td>54736</td>\n",
       "      <td>Salmonella bongori</td>\n",
       "      <td>SAMEA2735043</td>\n",
       "      <td>no</td>\n",
       "      <td>UBP-CNRS</td>\n",
       "      <td>ERA352818</td>\n",
       "      <td>public</td>\n",
       "      <td>5A1A7572CDF8F66B8E18EF18F728C53C</td>\n",
       "      <td>259EEAEE6761488BE57735A41319FD65</td>\n",
       "    </tr>\n",
       "    <tr>\n",
       "      <th>244</th>\n",
       "      <td>ERR588943</td>\n",
       "      <td>2014-08-31 23:02:31</td>\n",
       "      <td>2014-08-31 23:13:02</td>\n",
       "      <td>8605</td>\n",
       "      <td>2518390</td>\n",
       "      <td>8605</td>\n",
       "      <td>292</td>\n",
       "      <td>1</td>\n",
       "      <td>-</td>\n",
       "      <td>https://sra-downloadb.st-va.ncbi.nlm.nih.gov/s...</td>\n",
       "      <td>...</td>\n",
       "      <td>simple</td>\n",
       "      <td>54736</td>\n",
       "      <td>Salmonella bongori</td>\n",
       "      <td>SAMEA2735044</td>\n",
       "      <td>no</td>\n",
       "      <td>UBP-CNRS</td>\n",
       "      <td>ERA352818</td>\n",
       "      <td>public</td>\n",
       "      <td>D239909A38E54A2FC68166809332FCB2</td>\n",
       "      <td>97E26FF6D0588273F7AEF9452504B4B3</td>\n",
       "    </tr>\n",
       "    <tr>\n",
       "      <th>245</th>\n",
       "      <td>ERR588944</td>\n",
       "      <td>2014-08-31 23:02:31</td>\n",
       "      <td>2014-08-31 23:13:02</td>\n",
       "      <td>12327</td>\n",
       "      <td>3151234</td>\n",
       "      <td>12327</td>\n",
       "      <td>255</td>\n",
       "      <td>1</td>\n",
       "      <td>-</td>\n",
       "      <td>https://sra-downloadb.st-va.ncbi.nlm.nih.gov/s...</td>\n",
       "      <td>...</td>\n",
       "      <td>simple</td>\n",
       "      <td>54736</td>\n",
       "      <td>Salmonella bongori</td>\n",
       "      <td>SAMEA2735045</td>\n",
       "      <td>no</td>\n",
       "      <td>UBP-CNRS</td>\n",
       "      <td>ERA352818</td>\n",
       "      <td>public</td>\n",
       "      <td>48D240EB05D3C925AF5069AB78218CE2</td>\n",
       "      <td>DACEA10716D7DBDCFE8914E8C9258D3B</td>\n",
       "    </tr>\n",
       "    <tr>\n",
       "      <th>246</th>\n",
       "      <td>ERR588945</td>\n",
       "      <td>2014-08-31 23:02:30</td>\n",
       "      <td>2014-08-31 23:11:28</td>\n",
       "      <td>8109</td>\n",
       "      <td>1817822</td>\n",
       "      <td>8109</td>\n",
       "      <td>224</td>\n",
       "      <td>1</td>\n",
       "      <td>-</td>\n",
       "      <td>https://sra-downloadb.st-va.ncbi.nlm.nih.gov/s...</td>\n",
       "      <td>...</td>\n",
       "      <td>simple</td>\n",
       "      <td>54736</td>\n",
       "      <td>Salmonella bongori</td>\n",
       "      <td>SAMEA2735046</td>\n",
       "      <td>no</td>\n",
       "      <td>UBP-CNRS</td>\n",
       "      <td>ERA352818</td>\n",
       "      <td>public</td>\n",
       "      <td>C95CB5556A8D4F85E5E6DE240DBA9F5F</td>\n",
       "      <td>E0D54D3EDBEEBCD027256EB37759C3E4</td>\n",
       "    </tr>\n",
       "    <tr>\n",
       "      <th>247</th>\n",
       "      <td>ERR588946</td>\n",
       "      <td>2014-08-31 23:02:31</td>\n",
       "      <td>2014-08-31 23:13:09</td>\n",
       "      <td>6690</td>\n",
       "      <td>1955186</td>\n",
       "      <td>6690</td>\n",
       "      <td>292</td>\n",
       "      <td>1</td>\n",
       "      <td>-</td>\n",
       "      <td>https://sra-downloadb.st-va.ncbi.nlm.nih.gov/s...</td>\n",
       "      <td>...</td>\n",
       "      <td>simple</td>\n",
       "      <td>54736</td>\n",
       "      <td>Salmonella bongori</td>\n",
       "      <td>SAMEA2735047</td>\n",
       "      <td>no</td>\n",
       "      <td>UBP-CNRS</td>\n",
       "      <td>ERA352818</td>\n",
       "      <td>public</td>\n",
       "      <td>E2329FA0B6308172BB20612A7E0D71FB</td>\n",
       "      <td>ECE62D7B6C56EB793EC0097047DAC4EC</td>\n",
       "    </tr>\n",
       "    <tr>\n",
       "      <th>248</th>\n",
       "      <td>ERR588947</td>\n",
       "      <td>2014-08-31 23:02:31</td>\n",
       "      <td>2014-08-31 23:13:09</td>\n",
       "      <td>8551</td>\n",
       "      <td>2527505</td>\n",
       "      <td>8551</td>\n",
       "      <td>295</td>\n",
       "      <td>1</td>\n",
       "      <td>-</td>\n",
       "      <td>https://sra-downloadb.st-va.ncbi.nlm.nih.gov/s...</td>\n",
       "      <td>...</td>\n",
       "      <td>simple</td>\n",
       "      <td>54736</td>\n",
       "      <td>Salmonella bongori</td>\n",
       "      <td>SAMEA2735048</td>\n",
       "      <td>no</td>\n",
       "      <td>UBP-CNRS</td>\n",
       "      <td>ERA352818</td>\n",
       "      <td>public</td>\n",
       "      <td>844668C71FA8BF7DAAAC1810CA765A3C</td>\n",
       "      <td>82520325CEA486ACD2C48781206ACC33</td>\n",
       "    </tr>\n",
       "    <tr>\n",
       "      <th>249</th>\n",
       "      <td>ERR588948</td>\n",
       "      <td>2014-08-31 23:02:31</td>\n",
       "      <td>2014-08-31 23:12:32</td>\n",
       "      <td>8357</td>\n",
       "      <td>2294912</td>\n",
       "      <td>8357</td>\n",
       "      <td>274</td>\n",
       "      <td>1</td>\n",
       "      <td>-</td>\n",
       "      <td>https://sra-downloadb.st-va.ncbi.nlm.nih.gov/s...</td>\n",
       "      <td>...</td>\n",
       "      <td>simple</td>\n",
       "      <td>54736</td>\n",
       "      <td>Salmonella bongori</td>\n",
       "      <td>SAMEA2735049</td>\n",
       "      <td>no</td>\n",
       "      <td>UBP-CNRS</td>\n",
       "      <td>ERA352818</td>\n",
       "      <td>public</td>\n",
       "      <td>A6B4417E25A8C4715C385956AB967E57</td>\n",
       "      <td>6031033C0EF044EA1DEB0FEEF17466A1</td>\n",
       "    </tr>\n",
       "    <tr>\n",
       "      <th>250</th>\n",
       "      <td>ERR588949</td>\n",
       "      <td>2014-08-31 23:02:31</td>\n",
       "      <td>2014-08-31 23:13:20</td>\n",
       "      <td>3206</td>\n",
       "      <td>895660</td>\n",
       "      <td>3206</td>\n",
       "      <td>279</td>\n",
       "      <td>0</td>\n",
       "      <td>-</td>\n",
       "      <td>https://sra-downloadb.st-va.ncbi.nlm.nih.gov/s...</td>\n",
       "      <td>...</td>\n",
       "      <td>simple</td>\n",
       "      <td>54736</td>\n",
       "      <td>Salmonella bongori</td>\n",
       "      <td>SAMEA2735050</td>\n",
       "      <td>no</td>\n",
       "      <td>UBP-CNRS</td>\n",
       "      <td>ERA352818</td>\n",
       "      <td>public</td>\n",
       "      <td>8A6D4C29B25055A25669C9DB96A52503</td>\n",
       "      <td>386F7BAADD60509F0C0797DEF6B37D16</td>\n",
       "    </tr>\n",
       "    <tr>\n",
       "      <th>251</th>\n",
       "      <td>ERR588950</td>\n",
       "      <td>2014-08-31 23:02:30</td>\n",
       "      <td>2014-08-31 23:11:36</td>\n",
       "      <td>1548</td>\n",
       "      <td>432202</td>\n",
       "      <td>1548</td>\n",
       "      <td>279</td>\n",
       "      <td>0</td>\n",
       "      <td>-</td>\n",
       "      <td>https://sra-downloadb.st-va.ncbi.nlm.nih.gov/s...</td>\n",
       "      <td>...</td>\n",
       "      <td>simple</td>\n",
       "      <td>54736</td>\n",
       "      <td>Salmonella bongori</td>\n",
       "      <td>SAMEA2735051</td>\n",
       "      <td>no</td>\n",
       "      <td>UBP-CNRS</td>\n",
       "      <td>ERA352818</td>\n",
       "      <td>public</td>\n",
       "      <td>DAEC5083E623CC24B0581C9169DF114F</td>\n",
       "      <td>43275FEB5EE3C5420B5EDE4318D44AA3</td>\n",
       "    </tr>\n",
       "    <tr>\n",
       "      <th>252</th>\n",
       "      <td>ERR588951</td>\n",
       "      <td>2014-08-31 23:02:30</td>\n",
       "      <td>2014-08-31 23:11:51</td>\n",
       "      <td>12863</td>\n",
       "      <td>4660863</td>\n",
       "      <td>12863</td>\n",
       "      <td>362</td>\n",
       "      <td>2</td>\n",
       "      <td>-</td>\n",
       "      <td>https://sra-downloadb.st-va.ncbi.nlm.nih.gov/s...</td>\n",
       "      <td>...</td>\n",
       "      <td>simple</td>\n",
       "      <td>54736</td>\n",
       "      <td>Salmonella bongori</td>\n",
       "      <td>SAMEA2735052</td>\n",
       "      <td>no</td>\n",
       "      <td>UBP-CNRS</td>\n",
       "      <td>ERA352818</td>\n",
       "      <td>public</td>\n",
       "      <td>F27E4B639AB587E59D01AB33E3C41DC8</td>\n",
       "      <td>67C5047BD67DF6337FA8B4DA12CAB56E</td>\n",
       "    </tr>\n",
       "    <tr>\n",
       "      <th>253</th>\n",
       "      <td>ERR588952</td>\n",
       "      <td>2014-08-31 23:02:31</td>\n",
       "      <td>2014-08-31 23:13:35</td>\n",
       "      <td>7764</td>\n",
       "      <td>2486797</td>\n",
       "      <td>7764</td>\n",
       "      <td>320</td>\n",
       "      <td>1</td>\n",
       "      <td>-</td>\n",
       "      <td>https://sra-downloadb.st-va.ncbi.nlm.nih.gov/s...</td>\n",
       "      <td>...</td>\n",
       "      <td>simple</td>\n",
       "      <td>54736</td>\n",
       "      <td>Salmonella bongori</td>\n",
       "      <td>SAMEA2735053</td>\n",
       "      <td>no</td>\n",
       "      <td>UBP-CNRS</td>\n",
       "      <td>ERA352818</td>\n",
       "      <td>public</td>\n",
       "      <td>5E0A2F639BF872E640BB18C0E5E7823C</td>\n",
       "      <td>62B355F250C910C081D27B5E3B698586</td>\n",
       "    </tr>\n",
       "    <tr>\n",
       "      <th>254</th>\n",
       "      <td>ERR588953</td>\n",
       "      <td>2014-08-31 23:02:31</td>\n",
       "      <td>2014-08-31 23:12:23</td>\n",
       "      <td>21415</td>\n",
       "      <td>7188259</td>\n",
       "      <td>21415</td>\n",
       "      <td>335</td>\n",
       "      <td>4</td>\n",
       "      <td>-</td>\n",
       "      <td>https://sra-downloadb.st-va.ncbi.nlm.nih.gov/s...</td>\n",
       "      <td>...</td>\n",
       "      <td>simple</td>\n",
       "      <td>54736</td>\n",
       "      <td>Salmonella bongori</td>\n",
       "      <td>SAMEA2735054</td>\n",
       "      <td>no</td>\n",
       "      <td>UBP-CNRS</td>\n",
       "      <td>ERA352818</td>\n",
       "      <td>public</td>\n",
       "      <td>E800DE01D0DFE1D977D094BB3CC2D821</td>\n",
       "      <td>01158A0E976921E2D4DF2AED6643EA6E</td>\n",
       "    </tr>\n",
       "    <tr>\n",
       "      <th>255</th>\n",
       "      <td>ERR588954</td>\n",
       "      <td>2014-08-31 23:02:31</td>\n",
       "      <td>2014-08-31 23:13:19</td>\n",
       "      <td>310</td>\n",
       "      <td>87656</td>\n",
       "      <td>310</td>\n",
       "      <td>282</td>\n",
       "      <td>0</td>\n",
       "      <td>-</td>\n",
       "      <td>https://sra-downloadb.st-va.ncbi.nlm.nih.gov/s...</td>\n",
       "      <td>...</td>\n",
       "      <td>simple</td>\n",
       "      <td>54736</td>\n",
       "      <td>Salmonella bongori</td>\n",
       "      <td>SAMEA2735055</td>\n",
       "      <td>no</td>\n",
       "      <td>UBP-CNRS</td>\n",
       "      <td>ERA352818</td>\n",
       "      <td>public</td>\n",
       "      <td>9CB32FE028E86DBEFDAF519B116EF20F</td>\n",
       "      <td>364817BFDDF89A85E613356B4FD1C421</td>\n",
       "    </tr>\n",
       "  </tbody>\n",
       "</table>\n",
       "<p>41 rows × 35 columns</p>\n",
       "</div>"
      ],
      "text/plain": [
       "            Run          ReleaseDate             LoadDate   spots      bases  \\\n",
       "154  SRR6487812  2018-02-23 12:40:27  2018-02-23 10:59:14  221182   87186102   \n",
       "155  SRR6488136  2018-02-23 12:40:30  2018-02-23 10:59:08   54887   20016434   \n",
       "156  SRR6487904  2018-02-23 12:48:18  2018-02-23 11:09:12  240942   90329089   \n",
       "157  SRR6486182  2018-02-23 11:04:17  2018-02-23 10:39:38  231391   82757279   \n",
       "158  SRR6486173  2018-02-23 11:04:17  2018-02-23 10:39:48  560318  222849850   \n",
       "159  SRR6485951  2018-02-23 11:06:18  2018-02-23 10:39:51  522545  187169652   \n",
       "221   ERR588920  2014-08-31 23:02:31  2014-08-31 23:12:34  224694   88637960   \n",
       "222   ERR588921  2014-08-31 23:02:30  2014-08-31 23:11:00   98017   36050172   \n",
       "223   ERR588922  2014-08-31 23:02:30  2014-08-31 23:11:05     210      71858   \n",
       "224   ERR588923  2014-08-31 23:02:30  2014-08-31 23:11:09      79      25969   \n",
       "225   ERR588924  2014-08-31 23:02:30  2014-08-31 23:11:16       9       2671   \n",
       "226   ERR588925  2014-08-31 23:02:31  2014-08-31 23:12:35      17       5494   \n",
       "227   ERR588926  2014-08-31 23:02:31  2014-08-31 23:12:38      17       4459   \n",
       "228   ERR588927  2014-08-31 23:02:31  2014-08-31 23:12:40      15       4662   \n",
       "229   ERR588928  2014-08-31 23:02:31  2014-08-31 23:12:29      12       3950   \n",
       "230   ERR588929  2014-08-31 23:02:31  2014-08-31 23:12:22      13       4938   \n",
       "231   ERR588930  2014-08-31 23:02:31  2014-08-31 23:12:26  247020   88549996   \n",
       "232   ERR588931  2014-08-31 23:02:31  2014-08-31 23:12:36  576405  229360960   \n",
       "233   ERR588932  2014-08-31 23:02:31  2014-08-31 23:12:56  541918  193969284   \n",
       "234   ERR588933  2014-08-31 23:02:30  2014-08-31 23:12:10   17674    6039525   \n",
       "235   ERR588934  2014-08-31 23:02:30  2014-08-31 23:12:16   36721   12901441   \n",
       "236   ERR588935  2014-08-31 23:02:31  2014-08-31 23:12:16    7212    2360529   \n",
       "237   ERR588936  2014-08-31 23:02:30  2014-08-31 23:11:47    5305    1662217   \n",
       "238   ERR588937  2014-08-31 23:02:30  2014-08-31 23:12:01    4964    1622114   \n",
       "239   ERR588938  2014-08-31 23:02:30  2014-08-31 23:12:04    1726     572179   \n",
       "240   ERR588939  2014-08-31 23:02:31  2014-08-31 23:12:42    4261    1402675   \n",
       "241   ERR588940  2014-08-31 23:02:31  2014-08-31 23:12:54  249329   93481373   \n",
       "242   ERR588941  2014-08-31 23:02:31  2014-08-31 23:16:53   93446   33446109   \n",
       "243   ERR588942  2014-08-31 23:02:31  2014-08-31 23:16:59   20553    6847916   \n",
       "244   ERR588943  2014-08-31 23:02:31  2014-08-31 23:13:02    8605    2518390   \n",
       "245   ERR588944  2014-08-31 23:02:31  2014-08-31 23:13:02   12327    3151234   \n",
       "246   ERR588945  2014-08-31 23:02:30  2014-08-31 23:11:28    8109    1817822   \n",
       "247   ERR588946  2014-08-31 23:02:31  2014-08-31 23:13:09    6690    1955186   \n",
       "248   ERR588947  2014-08-31 23:02:31  2014-08-31 23:13:09    8551    2527505   \n",
       "249   ERR588948  2014-08-31 23:02:31  2014-08-31 23:12:32    8357    2294912   \n",
       "250   ERR588949  2014-08-31 23:02:31  2014-08-31 23:13:20    3206     895660   \n",
       "251   ERR588950  2014-08-31 23:02:30  2014-08-31 23:11:36    1548     432202   \n",
       "252   ERR588951  2014-08-31 23:02:30  2014-08-31 23:11:51   12863    4660863   \n",
       "253   ERR588952  2014-08-31 23:02:31  2014-08-31 23:13:35    7764    2486797   \n",
       "254   ERR588953  2014-08-31 23:02:31  2014-08-31 23:12:23   21415    7188259   \n",
       "255   ERR588954  2014-08-31 23:02:31  2014-08-31 23:13:19     310      87656   \n",
       "\n",
       "     spots_with_mates  avgLength  size_MB AssemblyName  \\\n",
       "154            220815        394       31     assembly   \n",
       "155             54077        364        7     assembly   \n",
       "156            240666        374       33     assembly   \n",
       "157            230861        357       34     assembly   \n",
       "158            559525        397       79     assembly   \n",
       "159            522136        358       67     assembly   \n",
       "221            224694        394       48            -   \n",
       "222             98017        367       20            -   \n",
       "223               210        342        0            -   \n",
       "224                79        328        0            -   \n",
       "225                 9        296        0            -   \n",
       "226                17        323        0            -   \n",
       "227                17        262        0            -   \n",
       "228                15        310        0            -   \n",
       "229                12        329        0            -   \n",
       "230                13        379        0            -   \n",
       "231            247020        358       53            -   \n",
       "232            576405        397      127            -   \n",
       "233            541918        357      108            -   \n",
       "234             17674        341        3            -   \n",
       "235             36721        351        7            -   \n",
       "236              7212        327        1            -   \n",
       "237              5305        313        0            -   \n",
       "238              4964        326        0            -   \n",
       "239              1726        331        0            -   \n",
       "240              4261        329        0            -   \n",
       "241            249329        374       51            -   \n",
       "242             93446        357       18            -   \n",
       "243             20553        333        3            -   \n",
       "244              8605        292        1            -   \n",
       "245             12327        255        1            -   \n",
       "246              8109        224        1            -   \n",
       "247              6690        292        1            -   \n",
       "248              8551        295        1            -   \n",
       "249              8357        274        1            -   \n",
       "250              3206        279        0            -   \n",
       "251              1548        279        0            -   \n",
       "252             12863        362        2            -   \n",
       "253              7764        320        1            -   \n",
       "254             21415        335        4            -   \n",
       "255               310        282        0            -   \n",
       "\n",
       "                                         download_path  ... SampleType  TaxID  \\\n",
       "154  https://sra-downloadb.st-va.ncbi.nlm.nih.gov/s...  ...     simple  54736   \n",
       "155  https://sra-downloadb.st-va.ncbi.nlm.nih.gov/s...  ...     simple  54736   \n",
       "156  https://sra-downloadb.st-va.ncbi.nlm.nih.gov/s...  ...     simple  54736   \n",
       "157  https://sra-downloadb.st-va.ncbi.nlm.nih.gov/s...  ...     simple  54736   \n",
       "158  https://sra-downloadb.st-va.ncbi.nlm.nih.gov/s...  ...     simple  54736   \n",
       "159  https://sra-downloadb.st-va.ncbi.nlm.nih.gov/s...  ...     simple  54736   \n",
       "221  https://sra-downloadb.st-va.ncbi.nlm.nih.gov/s...  ...     simple  54736   \n",
       "222  https://sra-downloadb.st-va.ncbi.nlm.nih.gov/s...  ...     simple  54736   \n",
       "223  https://sra-downloadb.st-va.ncbi.nlm.nih.gov/s...  ...     simple  54736   \n",
       "224  https://sra-downloadb.st-va.ncbi.nlm.nih.gov/s...  ...     simple  54736   \n",
       "225  https://sra-downloadb.st-va.ncbi.nlm.nih.gov/s...  ...     simple  54736   \n",
       "226  https://sra-downloadb.st-va.ncbi.nlm.nih.gov/s...  ...     simple  54736   \n",
       "227  https://sra-downloadb.st-va.ncbi.nlm.nih.gov/s...  ...     simple  54736   \n",
       "228  https://sra-downloadb.st-va.ncbi.nlm.nih.gov/s...  ...     simple  54736   \n",
       "229  https://sra-downloadb.st-va.ncbi.nlm.nih.gov/s...  ...     simple  54736   \n",
       "230  https://sra-downloadb.st-va.ncbi.nlm.nih.gov/s...  ...     simple  54736   \n",
       "231  https://sra-downloadb.st-va.ncbi.nlm.nih.gov/s...  ...     simple  54736   \n",
       "232  https://sra-downloadb.st-va.ncbi.nlm.nih.gov/s...  ...     simple  54736   \n",
       "233  https://sra-downloadb.st-va.ncbi.nlm.nih.gov/s...  ...     simple  54736   \n",
       "234  https://sra-downloadb.st-va.ncbi.nlm.nih.gov/s...  ...     simple  54736   \n",
       "235  https://sra-downloadb.st-va.ncbi.nlm.nih.gov/s...  ...     simple  54736   \n",
       "236  https://sra-downloadb.st-va.ncbi.nlm.nih.gov/s...  ...     simple  54736   \n",
       "237  https://sra-downloadb.st-va.ncbi.nlm.nih.gov/s...  ...     simple  54736   \n",
       "238  https://sra-downloadb.st-va.ncbi.nlm.nih.gov/s...  ...     simple  54736   \n",
       "239  https://sra-downloadb.st-va.ncbi.nlm.nih.gov/s...  ...     simple  54736   \n",
       "240  https://sra-downloadb.st-va.ncbi.nlm.nih.gov/s...  ...     simple  54736   \n",
       "241  https://sra-downloadb.st-va.ncbi.nlm.nih.gov/s...  ...     simple  54736   \n",
       "242  https://sra-downloadb.st-va.ncbi.nlm.nih.gov/s...  ...     simple  54736   \n",
       "243  https://sra-downloadb.st-va.ncbi.nlm.nih.gov/s...  ...     simple  54736   \n",
       "244  https://sra-downloadb.st-va.ncbi.nlm.nih.gov/s...  ...     simple  54736   \n",
       "245  https://sra-downloadb.st-va.ncbi.nlm.nih.gov/s...  ...     simple  54736   \n",
       "246  https://sra-downloadb.st-va.ncbi.nlm.nih.gov/s...  ...     simple  54736   \n",
       "247  https://sra-downloadb.st-va.ncbi.nlm.nih.gov/s...  ...     simple  54736   \n",
       "248  https://sra-downloadb.st-va.ncbi.nlm.nih.gov/s...  ...     simple  54736   \n",
       "249  https://sra-downloadb.st-va.ncbi.nlm.nih.gov/s...  ...     simple  54736   \n",
       "250  https://sra-downloadb.st-va.ncbi.nlm.nih.gov/s...  ...     simple  54736   \n",
       "251  https://sra-downloadb.st-va.ncbi.nlm.nih.gov/s...  ...     simple  54736   \n",
       "252  https://sra-downloadb.st-va.ncbi.nlm.nih.gov/s...  ...     simple  54736   \n",
       "253  https://sra-downloadb.st-va.ncbi.nlm.nih.gov/s...  ...     simple  54736   \n",
       "254  https://sra-downloadb.st-va.ncbi.nlm.nih.gov/s...  ...     simple  54736   \n",
       "255  https://sra-downloadb.st-va.ncbi.nlm.nih.gov/s...  ...     simple  54736   \n",
       "\n",
       "         ScientificName    SampleName Tumor                CenterName  \\\n",
       "154  Salmonella bongori      UBA11429    no  UNIVERSITY OF QUEENSLAND   \n",
       "155  Salmonella bongori      UBA11430    no  UNIVERSITY OF QUEENSLAND   \n",
       "156  Salmonella bongori      UBA12264    no  UNIVERSITY OF QUEENSLAND   \n",
       "157  Salmonella bongori       UBA7987    no  UNIVERSITY OF QUEENSLAND   \n",
       "158  Salmonella bongori       UBA7988    no  UNIVERSITY OF QUEENSLAND   \n",
       "159  Salmonella bongori       UBA7989    no  UNIVERSITY OF QUEENSLAND   \n",
       "221  Salmonella bongori  SAMEA2735021    no                  UBP-CNRS   \n",
       "222  Salmonella bongori  SAMEA2735022    no                  UBP-CNRS   \n",
       "223  Salmonella bongori  SAMEA2735023    no                  UBP-CNRS   \n",
       "224  Salmonella bongori  SAMEA2735024    no                  UBP-CNRS   \n",
       "225  Salmonella bongori  SAMEA2735025    no                  UBP-CNRS   \n",
       "226  Salmonella bongori  SAMEA2735026    no                  UBP-CNRS   \n",
       "227  Salmonella bongori  SAMEA2735027    no                  UBP-CNRS   \n",
       "228  Salmonella bongori  SAMEA2735028    no                  UBP-CNRS   \n",
       "229  Salmonella bongori  SAMEA2735029    no                  UBP-CNRS   \n",
       "230  Salmonella bongori  SAMEA2735030    no                  UBP-CNRS   \n",
       "231  Salmonella bongori  SAMEA2735031    no                  UBP-CNRS   \n",
       "232  Salmonella bongori  SAMEA2735032    no                  UBP-CNRS   \n",
       "233  Salmonella bongori  SAMEA2735033    no                  UBP-CNRS   \n",
       "234  Salmonella bongori  SAMEA2735034    no                  UBP-CNRS   \n",
       "235  Salmonella bongori  SAMEA2735035    no                  UBP-CNRS   \n",
       "236  Salmonella bongori  SAMEA2735036    no                  UBP-CNRS   \n",
       "237  Salmonella bongori  SAMEA2735037    no                  UBP-CNRS   \n",
       "238  Salmonella bongori  SAMEA2735038    no                  UBP-CNRS   \n",
       "239  Salmonella bongori  SAMEA2735039    no                  UBP-CNRS   \n",
       "240  Salmonella bongori  SAMEA2735040    no                  UBP-CNRS   \n",
       "241  Salmonella bongori  SAMEA2735041    no                  UBP-CNRS   \n",
       "242  Salmonella bongori  SAMEA2735042    no                  UBP-CNRS   \n",
       "243  Salmonella bongori  SAMEA2735043    no                  UBP-CNRS   \n",
       "244  Salmonella bongori  SAMEA2735044    no                  UBP-CNRS   \n",
       "245  Salmonella bongori  SAMEA2735045    no                  UBP-CNRS   \n",
       "246  Salmonella bongori  SAMEA2735046    no                  UBP-CNRS   \n",
       "247  Salmonella bongori  SAMEA2735047    no                  UBP-CNRS   \n",
       "248  Salmonella bongori  SAMEA2735048    no                  UBP-CNRS   \n",
       "249  Salmonella bongori  SAMEA2735049    no                  UBP-CNRS   \n",
       "250  Salmonella bongori  SAMEA2735050    no                  UBP-CNRS   \n",
       "251  Salmonella bongori  SAMEA2735051    no                  UBP-CNRS   \n",
       "252  Salmonella bongori  SAMEA2735052    no                  UBP-CNRS   \n",
       "253  Salmonella bongori  SAMEA2735053    no                  UBP-CNRS   \n",
       "254  Salmonella bongori  SAMEA2735054    no                  UBP-CNRS   \n",
       "255  Salmonella bongori  SAMEA2735055    no                  UBP-CNRS   \n",
       "\n",
       "     Submission  Consent                           RunHash  \\\n",
       "154   SRA648617   public  53C0B3B385CC3F54C9F5B034927DBA5E   \n",
       "155   SRA648617   public  0EB4121A1D81B50D441A83F85165C065   \n",
       "156   SRA648617   public  24225FE88A0179A40FA56E03855B5139   \n",
       "157   SRA648474   public  A17562EFC6D6D8745868B08614224FD3   \n",
       "158   SRA648474   public  7609B2DC4B88FB9BE4B6AF6BE9C9F2B9   \n",
       "159   SRA648474   public  3528467D1307D6DF39FD0DDCE1050CB1   \n",
       "221   ERA352818   public  D83AAE221F5B63E9A77B35856BAF96D8   \n",
       "222   ERA352818   public  A6887C3EFE6E669426374D144F2AC36A   \n",
       "223   ERA352818   public  D34D0FFE44B9929479D72D4E0036C779   \n",
       "224   ERA352818   public  17D6C212FCBC38A422954AB9924906EC   \n",
       "225   ERA352818   public  C2898B2D40B9612FF80BCA952AFE5FBC   \n",
       "226   ERA352818   public  91325614D62C8761CCD801442C5C458C   \n",
       "227   ERA352818   public  704AB419B8631D4A13FE9267F8DD4BF1   \n",
       "228   ERA352818   public  5A88E98859A262CF1F133A1700DDD328   \n",
       "229   ERA352818   public  31D940673E67F7FC500C44D6CAC154C1   \n",
       "230   ERA352818   public  1382A6885CD14786D5418307AEC7C3C5   \n",
       "231   ERA352818   public  AB47B9F6F3757F0A4979BD341B1A98C6   \n",
       "232   ERA352818   public  06F46A6603C4AB415E033C359BBBC649   \n",
       "233   ERA352818   public  F42DB6E0AD8A59F69C37B4BD479BC0A9   \n",
       "234   ERA352818   public  1B0901FA6D7652E7EBCECD89FFD2C78A   \n",
       "235   ERA352818   public  C5EF2A01BFAF9D52A3FB7684E2F41CD6   \n",
       "236   ERA352818   public  2E8A67D13BD217BAE990D20B99A99B15   \n",
       "237   ERA352818   public  634FFF1517FEADB0D328616BACEBB542   \n",
       "238   ERA352818   public  24540C2A3C40FF24D0818566D8DC379B   \n",
       "239   ERA352818   public  A36160ACDA7C61DCC037A369E79D1973   \n",
       "240   ERA352818   public  45DBEA56B5D0DAFAE2A9F2C0229CEC0D   \n",
       "241   ERA352818   public  E409D5BA466D33BAF4BA33F2A216F3B3   \n",
       "242   ERA352818   public  E533A90FB3C6145922AC172F6B194713   \n",
       "243   ERA352818   public  5A1A7572CDF8F66B8E18EF18F728C53C   \n",
       "244   ERA352818   public  D239909A38E54A2FC68166809332FCB2   \n",
       "245   ERA352818   public  48D240EB05D3C925AF5069AB78218CE2   \n",
       "246   ERA352818   public  C95CB5556A8D4F85E5E6DE240DBA9F5F   \n",
       "247   ERA352818   public  E2329FA0B6308172BB20612A7E0D71FB   \n",
       "248   ERA352818   public  844668C71FA8BF7DAAAC1810CA765A3C   \n",
       "249   ERA352818   public  A6B4417E25A8C4715C385956AB967E57   \n",
       "250   ERA352818   public  8A6D4C29B25055A25669C9DB96A52503   \n",
       "251   ERA352818   public  DAEC5083E623CC24B0581C9169DF114F   \n",
       "252   ERA352818   public  F27E4B639AB587E59D01AB33E3C41DC8   \n",
       "253   ERA352818   public  5E0A2F639BF872E640BB18C0E5E7823C   \n",
       "254   ERA352818   public  E800DE01D0DFE1D977D094BB3CC2D821   \n",
       "255   ERA352818   public  9CB32FE028E86DBEFDAF519B116EF20F   \n",
       "\n",
       "                             ReadHash  \n",
       "154  22053BAECF18092886C96346CCC8B739  \n",
       "155  FF8320EDCDFD5E300624F63800598DDB  \n",
       "156  7C15C6BDDEC535FA6039B99A45F01AD1  \n",
       "157  FCB16BC82EDCEBFED73B9E752A082F90  \n",
       "158  134645CB44CF88155385382A8B2E2B12  \n",
       "159  208B84367C5C9BAE57C4BE108767138A  \n",
       "221  2BC6C1CEFFC24F95300EF50CE0565E7A  \n",
       "222  22B15239A9E6AEC2FFF69C2649BB9A03  \n",
       "223  E9AEBB429E7F8071114C27440315025C  \n",
       "224  5531B89EFA197B2C15686C72A35CE1D4  \n",
       "225  D7393CEFB08235793D95548CD6C74114  \n",
       "226  DCA564AFC50B2E52C3C482BEC3BF545C  \n",
       "227  B3B5A18A4C8D500444368C68FA81CC1D  \n",
       "228  D5DED073C2F80C50CF7500230601D93F  \n",
       "229  C37C5E77C86851CC1E67B2DFCA98BE1B  \n",
       "230  3E94794F862901FBD1CF129E6E5C2AB0  \n",
       "231  4333E5C358DC565718FE9C8DC1729A79  \n",
       "232  A8F5D66532F6A14018254B33BE6F6E27  \n",
       "233  F77920BE6C0569E3900491276E598246  \n",
       "234  D2E2D0E8527DA4F3F784F71F2A6228F9  \n",
       "235  09E9FFE1F3843241157BCBD2906597BF  \n",
       "236  BA329D63E434EFBA54D673434F0CCB7B  \n",
       "237  F1764EAEAC308FB25A8A37EDEFED00FF  \n",
       "238  CC448FD60AD4216096189576AB2DF730  \n",
       "239  50FE3759266289F83BAD3A3840721B78  \n",
       "240  58C7C12526E8DC254737B7E533ACE568  \n",
       "241  07C7DBA1FF8AD9539BF176E3D94E59BB  \n",
       "242  F3CC431FD70D9846CF1A45291E5B5932  \n",
       "243  259EEAEE6761488BE57735A41319FD65  \n",
       "244  97E26FF6D0588273F7AEF9452504B4B3  \n",
       "245  DACEA10716D7DBDCFE8914E8C9258D3B  \n",
       "246  E0D54D3EDBEEBCD027256EB37759C3E4  \n",
       "247  ECE62D7B6C56EB793EC0097047DAC4EC  \n",
       "248  82520325CEA486ACD2C48781206ACC33  \n",
       "249  6031033C0EF044EA1DEB0FEEF17466A1  \n",
       "250  386F7BAADD60509F0C0797DEF6B37D16  \n",
       "251  43275FEB5EE3C5420B5EDE4318D44AA3  \n",
       "252  67C5047BD67DF6337FA8B4DA12CAB56E  \n",
       "253  62B355F250C910C081D27B5E3B698586  \n",
       "254  01158A0E976921E2D4DF2AED6643EA6E  \n",
       "255  364817BFDDF89A85E613356B4FD1C421  \n",
       "\n",
       "[41 rows x 35 columns]"
      ]
     },
     "execution_count": 22,
     "metadata": {},
     "output_type": "execute_result"
    }
   ],
   "source": [
    "Sbongori[Sbongori[\"LibrarySource\"] == \"METAGENOMIC\"]"
   ]
  },
  {
   "cell_type": "markdown",
   "metadata": {},
   "source": [
    "The following code limits the DataFrame to only those rows for which the `LibrarySource` is `GENOMIC`."
   ]
  },
  {
   "cell_type": "code",
   "execution_count": 23,
   "metadata": {},
   "outputs": [
    {
     "data": {
      "text/html": [
       "<div>\n",
       "<style scoped>\n",
       "    .dataframe tbody tr th:only-of-type {\n",
       "        vertical-align: middle;\n",
       "    }\n",
       "\n",
       "    .dataframe tbody tr th {\n",
       "        vertical-align: top;\n",
       "    }\n",
       "\n",
       "    .dataframe thead th {\n",
       "        text-align: right;\n",
       "    }\n",
       "</style>\n",
       "<table border=\"1\" class=\"dataframe\">\n",
       "  <thead>\n",
       "    <tr style=\"text-align: right;\">\n",
       "      <th></th>\n",
       "      <th>Run</th>\n",
       "      <th>ReleaseDate</th>\n",
       "      <th>LoadDate</th>\n",
       "      <th>spots</th>\n",
       "      <th>bases</th>\n",
       "      <th>spots_with_mates</th>\n",
       "      <th>avgLength</th>\n",
       "      <th>size_MB</th>\n",
       "      <th>AssemblyName</th>\n",
       "      <th>download_path</th>\n",
       "      <th>...</th>\n",
       "      <th>SampleType</th>\n",
       "      <th>TaxID</th>\n",
       "      <th>ScientificName</th>\n",
       "      <th>SampleName</th>\n",
       "      <th>Tumor</th>\n",
       "      <th>CenterName</th>\n",
       "      <th>Submission</th>\n",
       "      <th>Consent</th>\n",
       "      <th>RunHash</th>\n",
       "      <th>ReadHash</th>\n",
       "    </tr>\n",
       "  </thead>\n",
       "  <tbody>\n",
       "    <tr>\n",
       "      <th>0</th>\n",
       "      <td>SRR14362444</td>\n",
       "      <td>2021-04-30 00:01:02</td>\n",
       "      <td>2021-04-29 16:24:11</td>\n",
       "      <td>2999506</td>\n",
       "      <td>566516925</td>\n",
       "      <td>2999506</td>\n",
       "      <td>188</td>\n",
       "      <td>270</td>\n",
       "      <td>-</td>\n",
       "      <td>https://sra-downloadb.be-md.ncbi.nlm.nih.gov/s...</td>\n",
       "      <td>...</td>\n",
       "      <td>simple</td>\n",
       "      <td>54736</td>\n",
       "      <td>Salmonella bongori</td>\n",
       "      <td>1163721.biosample</td>\n",
       "      <td>no</td>\n",
       "      <td>PHE</td>\n",
       "      <td>SRA1225655</td>\n",
       "      <td>public</td>\n",
       "      <td>266671E73210C1485BD4C1C9A3B65301</td>\n",
       "      <td>688A3095DABA6D37478F2B272008E115</td>\n",
       "    </tr>\n",
       "    <tr>\n",
       "      <th>1</th>\n",
       "      <td>SRR14274498</td>\n",
       "      <td>2021-04-19 15:52:02</td>\n",
       "      <td>2021-04-19 15:34:48</td>\n",
       "      <td>2083109</td>\n",
       "      <td>1045720718</td>\n",
       "      <td>2083109</td>\n",
       "      <td>502</td>\n",
       "      <td>624</td>\n",
       "      <td>-</td>\n",
       "      <td>https://sra-downloadb.be-md.ncbi.nlm.nih.gov/s...</td>\n",
       "      <td>...</td>\n",
       "      <td>simple</td>\n",
       "      <td>54736</td>\n",
       "      <td>Salmonella bongori</td>\n",
       "      <td>2018K-0683</td>\n",
       "      <td>no</td>\n",
       "      <td>CENTERS FOR DISEASE CONTROL AND PREVENTION</td>\n",
       "      <td>SRA1220314</td>\n",
       "      <td>public</td>\n",
       "      <td>CDA0D44BDC61BA608F8C73E76CC5E3EB</td>\n",
       "      <td>DE1B3F187563663CF0DE5CF956F4D196</td>\n",
       "    </tr>\n",
       "    <tr>\n",
       "      <th>2</th>\n",
       "      <td>SRR10741822</td>\n",
       "      <td>2019-12-20 07:12:46</td>\n",
       "      <td>2019-12-19 17:29:33</td>\n",
       "      <td>1657895</td>\n",
       "      <td>326323131</td>\n",
       "      <td>1657895</td>\n",
       "      <td>196</td>\n",
       "      <td>153</td>\n",
       "      <td>-</td>\n",
       "      <td>https://sra-downloadb.be-md.ncbi.nlm.nih.gov/s...</td>\n",
       "      <td>...</td>\n",
       "      <td>simple</td>\n",
       "      <td>54736</td>\n",
       "      <td>Salmonella bongori</td>\n",
       "      <td>854884.biosample</td>\n",
       "      <td>no</td>\n",
       "      <td>PHE</td>\n",
       "      <td>SRA1014497</td>\n",
       "      <td>public</td>\n",
       "      <td>4F5E4FC5A0E374235F09EDDBD5BA7658</td>\n",
       "      <td>BC1FD46EBAE2875C497496533A55775E</td>\n",
       "    </tr>\n",
       "    <tr>\n",
       "      <th>3</th>\n",
       "      <td>SRR10741904</td>\n",
       "      <td>2019-12-20 07:12:46</td>\n",
       "      <td>2019-12-19 18:05:27</td>\n",
       "      <td>1831283</td>\n",
       "      <td>361388421</td>\n",
       "      <td>1831283</td>\n",
       "      <td>197</td>\n",
       "      <td>167</td>\n",
       "      <td>-</td>\n",
       "      <td>https://sra-downloadb.be-md.ncbi.nlm.nih.gov/s...</td>\n",
       "      <td>...</td>\n",
       "      <td>simple</td>\n",
       "      <td>54736</td>\n",
       "      <td>Salmonella bongori</td>\n",
       "      <td>854885.biosample</td>\n",
       "      <td>no</td>\n",
       "      <td>PHE</td>\n",
       "      <td>SRA1014527</td>\n",
       "      <td>public</td>\n",
       "      <td>67626114CCD43CF318BDD81407A50967</td>\n",
       "      <td>922D87CE4A4C72B5B01A991F82B9DD2E</td>\n",
       "    </tr>\n",
       "    <tr>\n",
       "      <th>4</th>\n",
       "      <td>SRR10741836</td>\n",
       "      <td>2019-12-20 07:12:46</td>\n",
       "      <td>2019-12-19 17:44:57</td>\n",
       "      <td>1995889</td>\n",
       "      <td>397229033</td>\n",
       "      <td>1995889</td>\n",
       "      <td>199</td>\n",
       "      <td>184</td>\n",
       "      <td>-</td>\n",
       "      <td>https://sra-downloadb.be-md.ncbi.nlm.nih.gov/s...</td>\n",
       "      <td>...</td>\n",
       "      <td>simple</td>\n",
       "      <td>54736</td>\n",
       "      <td>Salmonella bongori</td>\n",
       "      <td>854886.biosample</td>\n",
       "      <td>no</td>\n",
       "      <td>PHE</td>\n",
       "      <td>SRA1014510</td>\n",
       "      <td>public</td>\n",
       "      <td>4F017D824823DCA15308965DAA47014E</td>\n",
       "      <td>225E4B4A4D8E78CAEBE40FCA707D6F61</td>\n",
       "    </tr>\n",
       "    <tr>\n",
       "      <th>...</th>\n",
       "      <td>...</td>\n",
       "      <td>...</td>\n",
       "      <td>...</td>\n",
       "      <td>...</td>\n",
       "      <td>...</td>\n",
       "      <td>...</td>\n",
       "      <td>...</td>\n",
       "      <td>...</td>\n",
       "      <td>...</td>\n",
       "      <td>...</td>\n",
       "      <td>...</td>\n",
       "      <td>...</td>\n",
       "      <td>...</td>\n",
       "      <td>...</td>\n",
       "      <td>...</td>\n",
       "      <td>...</td>\n",
       "      <td>...</td>\n",
       "      <td>...</td>\n",
       "      <td>...</td>\n",
       "      <td>...</td>\n",
       "      <td>...</td>\n",
       "    </tr>\n",
       "    <tr>\n",
       "      <th>284</th>\n",
       "      <td>ERR019475</td>\n",
       "      <td>2011-03-15 10:49:31</td>\n",
       "      <td>2014-05-29 15:36:29</td>\n",
       "      <td>11123855</td>\n",
       "      <td>1201376340</td>\n",
       "      <td>11123855</td>\n",
       "      <td>108</td>\n",
       "      <td>839</td>\n",
       "      <td>-</td>\n",
       "      <td>https://sra-downloadb.st-va.ncbi.nlm.nih.gov/s...</td>\n",
       "      <td>...</td>\n",
       "      <td>simple</td>\n",
       "      <td>54736</td>\n",
       "      <td>Salmonella bongori</td>\n",
       "      <td>SAMEA923889</td>\n",
       "      <td>no</td>\n",
       "      <td>SC</td>\n",
       "      <td>ERA013605</td>\n",
       "      <td>public</td>\n",
       "      <td>89783908C867B4365B932533B202F578</td>\n",
       "      <td>E2472EE86B50CB841034365965455283</td>\n",
       "    </tr>\n",
       "    <tr>\n",
       "      <th>285</th>\n",
       "      <td>SRR493652</td>\n",
       "      <td>2012-05-04 10:15:45</td>\n",
       "      <td>2012-08-12 03:44:40</td>\n",
       "      <td>598187</td>\n",
       "      <td>180652474</td>\n",
       "      <td>598187</td>\n",
       "      <td>302</td>\n",
       "      <td>129</td>\n",
       "      <td>-</td>\n",
       "      <td>https://sra-downloadb.st-va.ncbi.nlm.nih.gov/s...</td>\n",
       "      <td>...</td>\n",
       "      <td>simple</td>\n",
       "      <td>1173774</td>\n",
       "      <td>Salmonella bongori serovar 40:z35:- str. 95-0123</td>\n",
       "      <td>Salmonella bongori serovar 40:z35:- str. 95-0123</td>\n",
       "      <td>no</td>\n",
       "      <td>CFSAN</td>\n",
       "      <td>SRA052287</td>\n",
       "      <td>public</td>\n",
       "      <td>E6DC8AB2722DCB4266A736D2D7208613</td>\n",
       "      <td>6EA452DDAED75B76F2C9BD78B56347C5</td>\n",
       "    </tr>\n",
       "    <tr>\n",
       "      <th>286</th>\n",
       "      <td>SRR493653</td>\n",
       "      <td>2012-05-04 10:15:45</td>\n",
       "      <td>2012-08-12 03:45:26</td>\n",
       "      <td>2379168</td>\n",
       "      <td>352425436</td>\n",
       "      <td>0</td>\n",
       "      <td>148</td>\n",
       "      <td>859</td>\n",
       "      <td>-</td>\n",
       "      <td>https://sra-downloadb.be-md.ncbi.nlm.nih.gov/s...</td>\n",
       "      <td>...</td>\n",
       "      <td>simple</td>\n",
       "      <td>1173774</td>\n",
       "      <td>Salmonella bongori serovar 40:z35:- str. 95-0123</td>\n",
       "      <td>Salmonella bongori serovar 40:z35:- str. 95-0123</td>\n",
       "      <td>no</td>\n",
       "      <td>CFSAN</td>\n",
       "      <td>SRA052287</td>\n",
       "      <td>public</td>\n",
       "      <td>2D8BE3FA16C5BD7338148E5E508F7ACF</td>\n",
       "      <td>7AEF485561A3FDED1516147363B28993</td>\n",
       "    </tr>\n",
       "    <tr>\n",
       "      <th>287</th>\n",
       "      <td>SRR493646</td>\n",
       "      <td>2012-05-04 10:17:14</td>\n",
       "      <td>2012-08-12 03:44:35</td>\n",
       "      <td>542053</td>\n",
       "      <td>163700006</td>\n",
       "      <td>542053</td>\n",
       "      <td>302</td>\n",
       "      <td>115</td>\n",
       "      <td>-</td>\n",
       "      <td>https://sra-downloadb.st-va.ncbi.nlm.nih.gov/s...</td>\n",
       "      <td>...</td>\n",
       "      <td>simple</td>\n",
       "      <td>1173777</td>\n",
       "      <td>Salmonella bongori serovar 48:i:- str. 94-0708</td>\n",
       "      <td>Salmonella bongori serovar 48:i:- str. 94-0708</td>\n",
       "      <td>no</td>\n",
       "      <td>CFSAN</td>\n",
       "      <td>SRA052284</td>\n",
       "      <td>public</td>\n",
       "      <td>4F6063309166C1AA767928040CC8ABE6</td>\n",
       "      <td>757BB7FE12749C14455353E0068F8847</td>\n",
       "    </tr>\n",
       "    <tr>\n",
       "      <th>288</th>\n",
       "      <td>SRR493647</td>\n",
       "      <td>2012-05-04 10:17:14</td>\n",
       "      <td>2012-08-12 03:44:48</td>\n",
       "      <td>1141750</td>\n",
       "      <td>164646017</td>\n",
       "      <td>0</td>\n",
       "      <td>144</td>\n",
       "      <td>409</td>\n",
       "      <td>-</td>\n",
       "      <td>https://sra-downloadb.be-md.ncbi.nlm.nih.gov/s...</td>\n",
       "      <td>...</td>\n",
       "      <td>simple</td>\n",
       "      <td>1173777</td>\n",
       "      <td>Salmonella bongori serovar 48:i:- str. 94-0708</td>\n",
       "      <td>Salmonella bongori serovar 48:i:- str. 94-0708</td>\n",
       "      <td>no</td>\n",
       "      <td>CFSAN</td>\n",
       "      <td>SRA052284</td>\n",
       "      <td>public</td>\n",
       "      <td>200FADB57E2EC63942C2BFF4294979A3</td>\n",
       "      <td>7420AAB67B9930B5B6943B3B33E4A15B</td>\n",
       "    </tr>\n",
       "  </tbody>\n",
       "</table>\n",
       "<p>204 rows × 35 columns</p>\n",
       "</div>"
      ],
      "text/plain": [
       "             Run          ReleaseDate             LoadDate     spots  \\\n",
       "0    SRR14362444  2021-04-30 00:01:02  2021-04-29 16:24:11   2999506   \n",
       "1    SRR14274498  2021-04-19 15:52:02  2021-04-19 15:34:48   2083109   \n",
       "2    SRR10741822  2019-12-20 07:12:46  2019-12-19 17:29:33   1657895   \n",
       "3    SRR10741904  2019-12-20 07:12:46  2019-12-19 18:05:27   1831283   \n",
       "4    SRR10741836  2019-12-20 07:12:46  2019-12-19 17:44:57   1995889   \n",
       "..           ...                  ...                  ...       ...   \n",
       "284    ERR019475  2011-03-15 10:49:31  2014-05-29 15:36:29  11123855   \n",
       "285    SRR493652  2012-05-04 10:15:45  2012-08-12 03:44:40    598187   \n",
       "286    SRR493653  2012-05-04 10:15:45  2012-08-12 03:45:26   2379168   \n",
       "287    SRR493646  2012-05-04 10:17:14  2012-08-12 03:44:35    542053   \n",
       "288    SRR493647  2012-05-04 10:17:14  2012-08-12 03:44:48   1141750   \n",
       "\n",
       "          bases  spots_with_mates  avgLength  size_MB AssemblyName  \\\n",
       "0     566516925           2999506        188      270            -   \n",
       "1    1045720718           2083109        502      624            -   \n",
       "2     326323131           1657895        196      153            -   \n",
       "3     361388421           1831283        197      167            -   \n",
       "4     397229033           1995889        199      184            -   \n",
       "..          ...               ...        ...      ...          ...   \n",
       "284  1201376340          11123855        108      839            -   \n",
       "285   180652474            598187        302      129            -   \n",
       "286   352425436                 0        148      859            -   \n",
       "287   163700006            542053        302      115            -   \n",
       "288   164646017                 0        144      409            -   \n",
       "\n",
       "                                         download_path  ... SampleType  \\\n",
       "0    https://sra-downloadb.be-md.ncbi.nlm.nih.gov/s...  ...     simple   \n",
       "1    https://sra-downloadb.be-md.ncbi.nlm.nih.gov/s...  ...     simple   \n",
       "2    https://sra-downloadb.be-md.ncbi.nlm.nih.gov/s...  ...     simple   \n",
       "3    https://sra-downloadb.be-md.ncbi.nlm.nih.gov/s...  ...     simple   \n",
       "4    https://sra-downloadb.be-md.ncbi.nlm.nih.gov/s...  ...     simple   \n",
       "..                                                 ...  ...        ...   \n",
       "284  https://sra-downloadb.st-va.ncbi.nlm.nih.gov/s...  ...     simple   \n",
       "285  https://sra-downloadb.st-va.ncbi.nlm.nih.gov/s...  ...     simple   \n",
       "286  https://sra-downloadb.be-md.ncbi.nlm.nih.gov/s...  ...     simple   \n",
       "287  https://sra-downloadb.st-va.ncbi.nlm.nih.gov/s...  ...     simple   \n",
       "288  https://sra-downloadb.be-md.ncbi.nlm.nih.gov/s...  ...     simple   \n",
       "\n",
       "       TaxID                                    ScientificName  \\\n",
       "0      54736                                Salmonella bongori   \n",
       "1      54736                                Salmonella bongori   \n",
       "2      54736                                Salmonella bongori   \n",
       "3      54736                                Salmonella bongori   \n",
       "4      54736                                Salmonella bongori   \n",
       "..       ...                                               ...   \n",
       "284    54736                                Salmonella bongori   \n",
       "285  1173774  Salmonella bongori serovar 40:z35:- str. 95-0123   \n",
       "286  1173774  Salmonella bongori serovar 40:z35:- str. 95-0123   \n",
       "287  1173777    Salmonella bongori serovar 48:i:- str. 94-0708   \n",
       "288  1173777    Salmonella bongori serovar 48:i:- str. 94-0708   \n",
       "\n",
       "                                           SampleName Tumor  \\\n",
       "0                                   1163721.biosample    no   \n",
       "1                                          2018K-0683    no   \n",
       "2                                    854884.biosample    no   \n",
       "3                                    854885.biosample    no   \n",
       "4                                    854886.biosample    no   \n",
       "..                                                ...   ...   \n",
       "284                                       SAMEA923889    no   \n",
       "285  Salmonella bongori serovar 40:z35:- str. 95-0123    no   \n",
       "286  Salmonella bongori serovar 40:z35:- str. 95-0123    no   \n",
       "287    Salmonella bongori serovar 48:i:- str. 94-0708    no   \n",
       "288    Salmonella bongori serovar 48:i:- str. 94-0708    no   \n",
       "\n",
       "                                     CenterName  Submission  Consent  \\\n",
       "0                                           PHE  SRA1225655   public   \n",
       "1    CENTERS FOR DISEASE CONTROL AND PREVENTION  SRA1220314   public   \n",
       "2                                           PHE  SRA1014497   public   \n",
       "3                                           PHE  SRA1014527   public   \n",
       "4                                           PHE  SRA1014510   public   \n",
       "..                                          ...         ...      ...   \n",
       "284                                          SC   ERA013605   public   \n",
       "285                                       CFSAN   SRA052287   public   \n",
       "286                                       CFSAN   SRA052287   public   \n",
       "287                                       CFSAN   SRA052284   public   \n",
       "288                                       CFSAN   SRA052284   public   \n",
       "\n",
       "                              RunHash                          ReadHash  \n",
       "0    266671E73210C1485BD4C1C9A3B65301  688A3095DABA6D37478F2B272008E115  \n",
       "1    CDA0D44BDC61BA608F8C73E76CC5E3EB  DE1B3F187563663CF0DE5CF956F4D196  \n",
       "2    4F5E4FC5A0E374235F09EDDBD5BA7658  BC1FD46EBAE2875C497496533A55775E  \n",
       "3    67626114CCD43CF318BDD81407A50967  922D87CE4A4C72B5B01A991F82B9DD2E  \n",
       "4    4F017D824823DCA15308965DAA47014E  225E4B4A4D8E78CAEBE40FCA707D6F61  \n",
       "..                                ...                               ...  \n",
       "284  89783908C867B4365B932533B202F578  E2472EE86B50CB841034365965455283  \n",
       "285  E6DC8AB2722DCB4266A736D2D7208613  6EA452DDAED75B76F2C9BD78B56347C5  \n",
       "286  2D8BE3FA16C5BD7338148E5E508F7ACF  7AEF485561A3FDED1516147363B28993  \n",
       "287  4F6063309166C1AA767928040CC8ABE6  757BB7FE12749C14455353E0068F8847  \n",
       "288  200FADB57E2EC63942C2BFF4294979A3  7420AAB67B9930B5B6943B3B33E4A15B  \n",
       "\n",
       "[204 rows x 35 columns]"
      ]
     },
     "execution_count": 23,
     "metadata": {},
     "output_type": "execute_result"
    }
   ],
   "source": [
    "# In order to limit to just the GENOMIC LibrarySource that interests us\n",
    "Sbongori[Sbongori[\"LibrarySource\"] == \"GENOMIC\"]"
   ]
  },
  {
   "cell_type": "markdown",
   "metadata": {},
   "source": [
    "The following indexes list the size of each dataset in MB, limited to only those datasets with a `GENOMIC` `LibrarySource`."
   ]
  },
  {
   "cell_type": "code",
   "execution_count": 26,
   "metadata": {},
   "outputs": [
    {
     "data": {
      "text/plain": [
       "0      270\n",
       "1      624\n",
       "2      153\n",
       "3      167\n",
       "4      184\n",
       "      ... \n",
       "284    839\n",
       "285    129\n",
       "286    859\n",
       "287    115\n",
       "288    409\n",
       "Name: size_MB, Length: 204, dtype: int64"
      ]
     },
     "execution_count": 26,
     "metadata": {},
     "output_type": "execute_result"
    }
   ],
   "source": [
    "# Obtain the size in MB of the SRA datasets that are GENOMIC LibrarySource\n",
    "Sbongori[\"size_MB\"][Sbongori[\"LibrarySource\"] == \"GENOMIC\"]"
   ]
  },
  {
   "cell_type": "markdown",
   "metadata": {},
   "source": [
    "The sum method is applied to the index to obtain the total size of *S. bongori* genomic datasets in MB."
   ]
  },
  {
   "cell_type": "code",
   "execution_count": 27,
   "metadata": {},
   "outputs": [
    {
     "data": {
      "text/plain": [
       "85300"
      ]
     },
     "execution_count": 27,
     "metadata": {},
     "output_type": "execute_result"
    }
   ],
   "source": [
    "# Sum the size in MB of the SRA datasets that are GENOMIC LibrarySource\n",
    "Sbongori[\"size_MB\"][Sbongori[\"LibrarySource\"] == \"GENOMIC\"].sum()"
   ]
  },
  {
   "cell_type": "markdown",
   "metadata": {},
   "source": [
    "## *Salmonella enterica*"
   ]
  },
  {
   "cell_type": "markdown",
   "metadata": {},
   "source": [
    "### Import the *S. enterica* RunInfo Metadata"
   ]
  },
  {
   "cell_type": "markdown",
   "metadata": {},
   "source": [
    "The RunInfo data for all SRA datasets with *S. enterica* in the organism field is imported as the object named `Senterica`. "
   ]
  },
  {
   "cell_type": "code",
   "execution_count": 3,
   "metadata": {},
   "outputs": [],
   "source": [
    "Senterica = pd.read_csv(\"/home/chrisgaby/Documents/USDA/data/SRAfromEutils/SentericaRunInfoXMLextract.tsv\",\n",
    "                       sep='\\t',\n",
    "                       header=None,\n",
    "                       names = ['Run',\n",
    "                                'ReleaseDate',\n",
    "                                'LoadDate',\n",
    "                                'spots',\n",
    "                                'bases',\n",
    "                                'spots_with_mates',\n",
    "                                'avgLength',\n",
    "                                'size_MB',\n",
    "                                'AssemblyName',\n",
    "                                'download_path',\n",
    "                                'Experiment',\n",
    "                                'LibraryName',\n",
    "                                'LibraryStrategy',\n",
    "                                'LibrarySelection',\n",
    "                                'LibrarySource',\n",
    "                                'LibraryLayout',\n",
    "                                'InsertSize',\n",
    "                                'InsertDev',\n",
    "                                'Platform',\n",
    "                                'Model',\n",
    "                                'SRAStudy',\n",
    "                                'BioProject',\n",
    "                                'ProjectID',\n",
    "                                'Sample',\n",
    "                                'BioSample',\n",
    "                                'SampleType',\n",
    "                                'TaxID',\n",
    "                                'ScientificName',\n",
    "                                'SampleName',\n",
    "                                'Tumor',\n",
    "                                'CenterName',\n",
    "                                'Submission',\n",
    "                                'Consent',\n",
    "                                'RunHash',\n",
    "                                'ReadHash'],\n",
    "                       dtype = {'LibrarySource': 'category', 'Platform': 'category', 'Model': 'category'},\n",
    "                       parse_dates=['ReleaseDate', 'LoadDate'])"
   ]
  },
  {
   "cell_type": "markdown",
   "metadata": {},
   "source": [
    "Let's preview some of the data."
   ]
  },
  {
   "cell_type": "code",
   "execution_count": 146,
   "metadata": {},
   "outputs": [
    {
     "data": {
      "text/html": [
       "<div>\n",
       "<style scoped>\n",
       "    .dataframe tbody tr th:only-of-type {\n",
       "        vertical-align: middle;\n",
       "    }\n",
       "\n",
       "    .dataframe tbody tr th {\n",
       "        vertical-align: top;\n",
       "    }\n",
       "\n",
       "    .dataframe thead th {\n",
       "        text-align: right;\n",
       "    }\n",
       "</style>\n",
       "<table border=\"1\" class=\"dataframe\">\n",
       "  <thead>\n",
       "    <tr style=\"text-align: right;\">\n",
       "      <th></th>\n",
       "      <th>Run</th>\n",
       "      <th>ReleaseDate</th>\n",
       "      <th>LoadDate</th>\n",
       "      <th>spots</th>\n",
       "      <th>bases</th>\n",
       "      <th>spots_with_mates</th>\n",
       "      <th>avgLength</th>\n",
       "      <th>size_MB</th>\n",
       "      <th>AssemblyName</th>\n",
       "      <th>download_path</th>\n",
       "      <th>...</th>\n",
       "      <th>SampleType</th>\n",
       "      <th>TaxID</th>\n",
       "      <th>ScientificName</th>\n",
       "      <th>SampleName</th>\n",
       "      <th>Tumor</th>\n",
       "      <th>CenterName</th>\n",
       "      <th>Submission</th>\n",
       "      <th>Consent</th>\n",
       "      <th>RunHash</th>\n",
       "      <th>ReadHash</th>\n",
       "    </tr>\n",
       "  </thead>\n",
       "  <tbody>\n",
       "    <tr>\n",
       "      <th>0</th>\n",
       "      <td>SRR15312715</td>\n",
       "      <td>2021-07-31 15:54:42</td>\n",
       "      <td>2021-07-31 15:47:10</td>\n",
       "      <td>1218049</td>\n",
       "      <td>244181100</td>\n",
       "      <td>1218049</td>\n",
       "      <td>200</td>\n",
       "      <td>115</td>\n",
       "      <td>-</td>\n",
       "      <td>https://sra-download.ncbi.nlm.nih.gov/traces/s...</td>\n",
       "      <td>...</td>\n",
       "      <td>simple</td>\n",
       "      <td>59201</td>\n",
       "      <td>Salmonella enterica subsp. enterica</td>\n",
       "      <td>1276784.biosample</td>\n",
       "      <td>no</td>\n",
       "      <td>PHE</td>\n",
       "      <td>SRA1267259</td>\n",
       "      <td>public</td>\n",
       "      <td>8AC7F277DF5FB5C0823EE1C1178CD3E3</td>\n",
       "      <td>1F28655D46D11DE6883CAC1F1B2131A0</td>\n",
       "    </tr>\n",
       "    <tr>\n",
       "      <th>1</th>\n",
       "      <td>SRR15319860</td>\n",
       "      <td>2021-08-02 00:00:27</td>\n",
       "      <td>2021-08-01 16:04:29</td>\n",
       "      <td>1377382</td>\n",
       "      <td>272071075</td>\n",
       "      <td>1377382</td>\n",
       "      <td>197</td>\n",
       "      <td>125</td>\n",
       "      <td>-</td>\n",
       "      <td>https://sra-download.ncbi.nlm.nih.gov/traces/s...</td>\n",
       "      <td>...</td>\n",
       "      <td>simple</td>\n",
       "      <td>59201</td>\n",
       "      <td>Salmonella enterica subsp. enterica</td>\n",
       "      <td>1277073.biosample</td>\n",
       "      <td>no</td>\n",
       "      <td>PHE</td>\n",
       "      <td>SRA1268110</td>\n",
       "      <td>public</td>\n",
       "      <td>AB4274E98A9CED661DC2D81EDEF77C3F</td>\n",
       "      <td>9CE519D5AD2CF64629E49F5FB4E639FE</td>\n",
       "    </tr>\n",
       "    <tr>\n",
       "      <th>2</th>\n",
       "      <td>SRR15319861</td>\n",
       "      <td>2021-08-02 00:00:27</td>\n",
       "      <td>2021-08-01 16:15:42</td>\n",
       "      <td>3686888</td>\n",
       "      <td>739666229</td>\n",
       "      <td>3686888</td>\n",
       "      <td>200</td>\n",
       "      <td>338</td>\n",
       "      <td>-</td>\n",
       "      <td>https://sra-download.ncbi.nlm.nih.gov/traces/s...</td>\n",
       "      <td>...</td>\n",
       "      <td>simple</td>\n",
       "      <td>59201</td>\n",
       "      <td>Salmonella enterica subsp. enterica</td>\n",
       "      <td>1280292.biosample</td>\n",
       "      <td>no</td>\n",
       "      <td>PHE</td>\n",
       "      <td>SRA1268112</td>\n",
       "      <td>public</td>\n",
       "      <td>B843A34D46472BEE2C593B0991D2A35F</td>\n",
       "      <td>A0F009C3AD41EFA069A1858A2B586330</td>\n",
       "    </tr>\n",
       "    <tr>\n",
       "      <th>3</th>\n",
       "      <td>SRR15319859</td>\n",
       "      <td>2021-08-02 00:00:27</td>\n",
       "      <td>2021-08-01 16:04:35</td>\n",
       "      <td>1867020</td>\n",
       "      <td>367049704</td>\n",
       "      <td>1867020</td>\n",
       "      <td>196</td>\n",
       "      <td>175</td>\n",
       "      <td>-</td>\n",
       "      <td>https://sra-download.ncbi.nlm.nih.gov/traces/s...</td>\n",
       "      <td>...</td>\n",
       "      <td>simple</td>\n",
       "      <td>59201</td>\n",
       "      <td>Salmonella enterica subsp. enterica</td>\n",
       "      <td>1289383.biosample</td>\n",
       "      <td>no</td>\n",
       "      <td>PHE</td>\n",
       "      <td>SRA1268111</td>\n",
       "      <td>public</td>\n",
       "      <td>E72E8FDEA2BFC6068B815CC21D28F133</td>\n",
       "      <td>B554D9152B804B25E2408D43DD1E4129</td>\n",
       "    </tr>\n",
       "    <tr>\n",
       "      <th>4</th>\n",
       "      <td>SRR15321228</td>\n",
       "      <td>2021-08-02 01:08:14</td>\n",
       "      <td>2021-08-02 01:07:24</td>\n",
       "      <td>1270017</td>\n",
       "      <td>375967986</td>\n",
       "      <td>1270017</td>\n",
       "      <td>296</td>\n",
       "      <td>217</td>\n",
       "      <td>-</td>\n",
       "      <td>https://sra-download.ncbi.nlm.nih.gov/traces/s...</td>\n",
       "      <td>...</td>\n",
       "      <td>simple</td>\n",
       "      <td>117541</td>\n",
       "      <td>Salmonella enterica subsp. enterica serovar Ohio</td>\n",
       "      <td>FSIS12141431</td>\n",
       "      <td>no</td>\n",
       "      <td>USDA-FSIS</td>\n",
       "      <td>SRA1268185</td>\n",
       "      <td>public</td>\n",
       "      <td>596422CC4F99E7370BBD4B1AB94B173B</td>\n",
       "      <td>7511E7FFDE8822F4037CFA91946CB6AC</td>\n",
       "    </tr>\n",
       "  </tbody>\n",
       "</table>\n",
       "<p>5 rows × 35 columns</p>\n",
       "</div>"
      ],
      "text/plain": [
       "           Run         ReleaseDate             LoadDate    spots      bases  \\\n",
       "0  SRR15312715 2021-07-31 15:54:42  2021-07-31 15:47:10  1218049  244181100   \n",
       "1  SRR15319860 2021-08-02 00:00:27  2021-08-01 16:04:29  1377382  272071075   \n",
       "2  SRR15319861 2021-08-02 00:00:27  2021-08-01 16:15:42  3686888  739666229   \n",
       "3  SRR15319859 2021-08-02 00:00:27  2021-08-01 16:04:35  1867020  367049704   \n",
       "4  SRR15321228 2021-08-02 01:08:14  2021-08-02 01:07:24  1270017  375967986   \n",
       "\n",
       "   spots_with_mates  avgLength  size_MB AssemblyName  \\\n",
       "0           1218049        200      115            -   \n",
       "1           1377382        197      125            -   \n",
       "2           3686888        200      338            -   \n",
       "3           1867020        196      175            -   \n",
       "4           1270017        296      217            -   \n",
       "\n",
       "                                       download_path  ... SampleType   TaxID  \\\n",
       "0  https://sra-download.ncbi.nlm.nih.gov/traces/s...  ...     simple   59201   \n",
       "1  https://sra-download.ncbi.nlm.nih.gov/traces/s...  ...     simple   59201   \n",
       "2  https://sra-download.ncbi.nlm.nih.gov/traces/s...  ...     simple   59201   \n",
       "3  https://sra-download.ncbi.nlm.nih.gov/traces/s...  ...     simple   59201   \n",
       "4  https://sra-download.ncbi.nlm.nih.gov/traces/s...  ...     simple  117541   \n",
       "\n",
       "                                     ScientificName         SampleName Tumor  \\\n",
       "0               Salmonella enterica subsp. enterica  1276784.biosample    no   \n",
       "1               Salmonella enterica subsp. enterica  1277073.biosample    no   \n",
       "2               Salmonella enterica subsp. enterica  1280292.biosample    no   \n",
       "3               Salmonella enterica subsp. enterica  1289383.biosample    no   \n",
       "4  Salmonella enterica subsp. enterica serovar Ohio       FSIS12141431    no   \n",
       "\n",
       "  CenterName  Submission  Consent                           RunHash  \\\n",
       "0        PHE  SRA1267259   public  8AC7F277DF5FB5C0823EE1C1178CD3E3   \n",
       "1        PHE  SRA1268110   public  AB4274E98A9CED661DC2D81EDEF77C3F   \n",
       "2        PHE  SRA1268112   public  B843A34D46472BEE2C593B0991D2A35F   \n",
       "3        PHE  SRA1268111   public  E72E8FDEA2BFC6068B815CC21D28F133   \n",
       "4  USDA-FSIS  SRA1268185   public  596422CC4F99E7370BBD4B1AB94B173B   \n",
       "\n",
       "                           ReadHash  \n",
       "0  1F28655D46D11DE6883CAC1F1B2131A0  \n",
       "1  9CE519D5AD2CF64629E49F5FB4E639FE  \n",
       "2  A0F009C3AD41EFA069A1858A2B586330  \n",
       "3  B554D9152B804B25E2408D43DD1E4129  \n",
       "4  7511E7FFDE8822F4037CFA91946CB6AC  \n",
       "\n",
       "[5 rows x 35 columns]"
      ]
     },
     "execution_count": 146,
     "metadata": {},
     "output_type": "execute_result"
    }
   ],
   "source": [
    "Senterica.head()"
   ]
  },
  {
   "cell_type": "markdown",
   "metadata": {},
   "source": [
    "Upon examination of the data types for the various data columns, it seems that `LoadDate` was not properly imported as `datetime` data type."
   ]
  },
  {
   "cell_type": "code",
   "execution_count": 147,
   "metadata": {},
   "outputs": [
    {
     "data": {
      "text/plain": [
       "Run                         object\n",
       "ReleaseDate         datetime64[ns]\n",
       "LoadDate                    object\n",
       "spots                        int64\n",
       "bases                        int64\n",
       "spots_with_mates             int64\n",
       "avgLength                    int64\n",
       "size_MB                      int64\n",
       "AssemblyName                object\n",
       "download_path               object\n",
       "Experiment                  object\n",
       "LibraryName                 object\n",
       "LibraryStrategy             object\n",
       "LibrarySelection            object\n",
       "LibrarySource             category\n",
       "LibraryLayout               object\n",
       "InsertSize                   int64\n",
       "InsertDev                    int64\n",
       "Platform                  category\n",
       "Model                     category\n",
       "SRAStudy                    object\n",
       "BioProject                  object\n",
       "ProjectID                    int64\n",
       "Sample                      object\n",
       "BioSample                   object\n",
       "SampleType                  object\n",
       "TaxID                        int64\n",
       "ScientificName              object\n",
       "SampleName                  object\n",
       "Tumor                       object\n",
       "CenterName                  object\n",
       "Submission                  object\n",
       "Consent                     object\n",
       "RunHash                     object\n",
       "ReadHash                    object\n",
       "dtype: object"
      ]
     },
     "execution_count": 147,
     "metadata": {},
     "output_type": "execute_result"
    }
   ],
   "source": [
    "Senterica.dtypes"
   ]
  },
  {
   "cell_type": "markdown",
   "metadata": {},
   "source": [
    "The `LoadDate` column contains `-` characters, which are obviously not in datetime format, which explains why the column failed to import as datetime data type."
   ]
  },
  {
   "cell_type": "code",
   "execution_count": 148,
   "metadata": {},
   "outputs": [
    {
     "data": {
      "text/plain": [
       "21099     -\n",
       "54274     -\n",
       "54276     -\n",
       "54277     -\n",
       "54278     -\n",
       "         ..\n",
       "379475    -\n",
       "379480    -\n",
       "379482    -\n",
       "406134    -\n",
       "406135    -\n",
       "Name: LoadDate, Length: 812, dtype: object"
      ]
     },
     "execution_count": 148,
     "metadata": {},
     "output_type": "execute_result"
    }
   ],
   "source": [
    "Senterica[\"LoadDate\"][Senterica[\"LoadDate\"] == \"-\"]"
   ]
  },
  {
   "cell_type": "markdown",
   "metadata": {},
   "source": [
    "The following code remedies the errors and rewrites the column. Thereafter `LoadDate` is listed as the `datetime64[ns]` datatype."
   ]
  },
  {
   "cell_type": "code",
   "execution_count": 149,
   "metadata": {},
   "outputs": [],
   "source": [
    "Senterica['LoadDate'] = pd.to_datetime(Senterica['LoadDate'], errors='coerce')"
   ]
  },
  {
   "cell_type": "code",
   "execution_count": 150,
   "metadata": {},
   "outputs": [
    {
     "data": {
      "text/plain": [
       "dtype('<M8[ns]')"
      ]
     },
     "execution_count": 150,
     "metadata": {},
     "output_type": "execute_result"
    }
   ],
   "source": [
    "Senterica['LoadDate'].dtype"
   ]
  },
  {
   "cell_type": "code",
   "execution_count": 151,
   "metadata": {},
   "outputs": [
    {
     "data": {
      "text/plain": [
       "Run                         object\n",
       "ReleaseDate         datetime64[ns]\n",
       "LoadDate            datetime64[ns]\n",
       "spots                        int64\n",
       "bases                        int64\n",
       "spots_with_mates             int64\n",
       "avgLength                    int64\n",
       "size_MB                      int64\n",
       "AssemblyName                object\n",
       "download_path               object\n",
       "Experiment                  object\n",
       "LibraryName                 object\n",
       "LibraryStrategy             object\n",
       "LibrarySelection            object\n",
       "LibrarySource             category\n",
       "LibraryLayout               object\n",
       "InsertSize                   int64\n",
       "InsertDev                    int64\n",
       "Platform                  category\n",
       "Model                     category\n",
       "SRAStudy                    object\n",
       "BioProject                  object\n",
       "ProjectID                    int64\n",
       "Sample                      object\n",
       "BioSample                   object\n",
       "SampleType                  object\n",
       "TaxID                        int64\n",
       "ScientificName              object\n",
       "SampleName                  object\n",
       "Tumor                       object\n",
       "CenterName                  object\n",
       "Submission                  object\n",
       "Consent                     object\n",
       "RunHash                     object\n",
       "ReadHash                    object\n",
       "dtype: object"
      ]
     },
     "execution_count": 151,
     "metadata": {},
     "output_type": "execute_result"
    }
   ],
   "source": [
    "Senterica.dtypes"
   ]
  },
  {
   "cell_type": "code",
   "execution_count": 239,
   "metadata": {},
   "outputs": [
    {
     "name": "stdout",
     "output_type": "stream",
     "text": [
      "<class 'pandas.core.frame.DataFrame'>\n",
      "RangeIndex: 417588 entries, 0 to 417587\n",
      "Data columns (total 35 columns):\n",
      " #   Column            Non-Null Count   Dtype         \n",
      "---  ------            --------------   -----         \n",
      " 0   Run               417588 non-null  object        \n",
      " 1   ReleaseDate       417588 non-null  datetime64[ns]\n",
      " 2   LoadDate          416776 non-null  datetime64[ns]\n",
      " 3   spots             417588 non-null  int64         \n",
      " 4   bases             417588 non-null  int64         \n",
      " 5   spots_with_mates  417588 non-null  int64         \n",
      " 6   avgLength         417588 non-null  int64         \n",
      " 7   size_MB           417588 non-null  int64         \n",
      " 8   AssemblyName      417588 non-null  object        \n",
      " 9   download_path     417588 non-null  object        \n",
      " 10  Experiment        417588 non-null  object        \n",
      " 11  LibraryName       417588 non-null  object        \n",
      " 12  LibraryStrategy   417588 non-null  object        \n",
      " 13  LibrarySelection  417588 non-null  object        \n",
      " 14  LibrarySource     417588 non-null  category      \n",
      " 15  LibraryLayout     417588 non-null  object        \n",
      " 16  InsertSize        417588 non-null  int64         \n",
      " 17  InsertDev         417588 non-null  int64         \n",
      " 18  Platform          417588 non-null  category      \n",
      " 19  Model             417588 non-null  category      \n",
      " 20  SRAStudy          417588 non-null  object        \n",
      " 21  BioProject        417588 non-null  object        \n",
      " 22  ProjectID         417588 non-null  int64         \n",
      " 23  Sample            417588 non-null  object        \n",
      " 24  BioSample         417588 non-null  object        \n",
      " 25  SampleType        417588 non-null  object        \n",
      " 26  TaxID             417588 non-null  int64         \n",
      " 27  ScientificName    417588 non-null  object        \n",
      " 28  SampleName        417588 non-null  object        \n",
      " 29  Tumor             417588 non-null  object        \n",
      " 30  CenterName        417588 non-null  object        \n",
      " 31  Submission        417588 non-null  object        \n",
      " 32  Consent           417588 non-null  object        \n",
      " 33  RunHash           417588 non-null  object        \n",
      " 34  ReadHash          417588 non-null  object        \n",
      "dtypes: category(3), datetime64[ns](2), int64(9), object(21)\n",
      "memory usage: 103.1+ MB\n"
     ]
    }
   ],
   "source": [
    "Senterica.info()"
   ]
  },
  {
   "cell_type": "markdown",
   "metadata": {},
   "source": [
    "## Dataset `size_MB`\n",
    "\n",
    "The dataset `size_MB` will be examined to determine the volume of data that will need to be transeferred as well as the range of dataset sizes.\n",
    "\n",
    "There are several methods for obtaining summary statistics, including `sum()`, `max()`, `min()`, `mean()`, `median()`, and `std()`, as demonstrated below. Note that the sum of the size in MB of all genomic datasets for *S. enterica* totals nearly 100 terabytes!"
   ]
  },
  {
   "cell_type": "code",
   "execution_count": 119,
   "metadata": {},
   "outputs": [
    {
     "data": {
      "text/plain": [
       "97562890"
      ]
     },
     "execution_count": 119,
     "metadata": {},
     "output_type": "execute_result"
    }
   ],
   "source": [
    "Senterica[\"size_MB\"][Senterica[\"LibrarySource\"] == \"GENOMIC\"].sum()"
   ]
  },
  {
   "cell_type": "code",
   "execution_count": 120,
   "metadata": {},
   "outputs": [
    {
     "data": {
      "text/plain": [
       "13884"
      ]
     },
     "execution_count": 120,
     "metadata": {},
     "output_type": "execute_result"
    }
   ],
   "source": [
    "len(Senterica[Senterica[\"size_MB\"] > 500])"
   ]
  },
  {
   "cell_type": "code",
   "execution_count": 121,
   "metadata": {},
   "outputs": [
    {
     "data": {
      "text/plain": [
       "18817"
      ]
     },
     "execution_count": 121,
     "metadata": {},
     "output_type": "execute_result"
    }
   ],
   "source": [
    "Senterica[\"size_MB\"].max()"
   ]
  },
  {
   "cell_type": "code",
   "execution_count": 5,
   "metadata": {},
   "outputs": [
    {
     "data": {
      "text/plain": [
       "18817"
      ]
     },
     "execution_count": 5,
     "metadata": {},
     "output_type": "execute_result"
    }
   ],
   "source": [
    "Senterica[\"size_MB\"][Senterica[\"LibrarySource\"] == \"GENOMIC\"].max()"
   ]
  },
  {
   "cell_type": "code",
   "execution_count": 122,
   "metadata": {},
   "outputs": [
    {
     "data": {
      "text/plain": [
       "0"
      ]
     },
     "execution_count": 122,
     "metadata": {},
     "output_type": "execute_result"
    }
   ],
   "source": [
    "Senterica[\"size_MB\"].min()"
   ]
  },
  {
   "cell_type": "code",
   "execution_count": 123,
   "metadata": {},
   "outputs": [
    {
     "data": {
      "text/plain": [
       "239.5053521652921"
      ]
     },
     "execution_count": 123,
     "metadata": {},
     "output_type": "execute_result"
    }
   ],
   "source": [
    "Senterica[\"size_MB\"].mean()"
   ]
  },
  {
   "cell_type": "code",
   "execution_count": 124,
   "metadata": {},
   "outputs": [
    {
     "data": {
      "text/plain": [
       "208.0"
      ]
     },
     "execution_count": 124,
     "metadata": {},
     "output_type": "execute_result"
    }
   ],
   "source": [
    "Senterica[\"size_MB\"].median()"
   ]
  },
  {
   "cell_type": "code",
   "execution_count": 125,
   "metadata": {},
   "outputs": [
    {
     "data": {
      "text/plain": [
       "256.99980307476284"
      ]
     },
     "execution_count": 125,
     "metadata": {},
     "output_type": "execute_result"
    }
   ],
   "source": [
    "Senterica[\"size_MB\"].std()"
   ]
  },
  {
   "cell_type": "markdown",
   "metadata": {},
   "source": [
    "Since the largest dataset is 18,817 MB, and the mean and median are much lower at about 220 MB, before I plot a histogram I'll limit to just those datsets that are below 500 MB in size so that the x-axis range is manageable."
   ]
  },
  {
   "cell_type": "code",
   "execution_count": 126,
   "metadata": {},
   "outputs": [
    {
     "data": {
      "text/plain": [
       "0         115\n",
       "1         125\n",
       "2         338\n",
       "3         175\n",
       "4         217\n",
       "         ... \n",
       "417583    219\n",
       "417584    210\n",
       "417585    212\n",
       "417586    213\n",
       "417587    214\n",
       "Name: size_MB, Length: 402215, dtype: int64"
      ]
     },
     "execution_count": 126,
     "metadata": {},
     "output_type": "execute_result"
    }
   ],
   "source": [
    "Senterica[\"size_MB\"][(Senterica[\"LibrarySource\"] == \"GENOMIC\") & (Senterica[\"size_MB\"] < 500)]"
   ]
  },
  {
   "cell_type": "code",
   "execution_count": 127,
   "metadata": {
    "scrolled": true
   },
   "outputs": [
    {
     "data": {
      "text/plain": [
       "(array([ 6707., 33262., 69923., 84479., 76650., 57278., 35649., 20232.,\n",
       "        11516.,  6519.]),\n",
       " array([  0. ,  49.9,  99.8, 149.7, 199.6, 249.5, 299.4, 349.3, 399.2,\n",
       "        449.1, 499. ]),\n",
       " <a list of 10 Patch objects>)"
      ]
     },
     "execution_count": 127,
     "metadata": {},
     "output_type": "execute_result"
    },
    {
     "data": {
      "image/png": "[encoded data removed]",
      "text/plain": [
       "<Figure size 432x288 with 1 Axes>"
      ]
     },
     "metadata": {
      "needs_background": "light"
     },
     "output_type": "display_data"
    }
   ],
   "source": [
    "plt.hist(Senterica[\"size_MB\"][(Senterica[\"LibrarySource\"] == \"GENOMIC\") & (Senterica[\"size_MB\"] < 500)])"
   ]
  },
  {
   "cell_type": "code",
   "execution_count": 33,
   "metadata": {},
   "outputs": [
    {
     "data": {
      "image/png": "[encoded data removed]",
      "text/plain": [
       "<Figure size 432x288 with 1 Axes>"
      ]
     },
     "metadata": {
      "needs_background": "light"
     },
     "output_type": "display_data"
    }
   ],
   "source": [
    "# From https://matplotlib.org/1.2.1/examples/pylab_examples/histogram_demo.html\n",
    "\n",
    "x = Senterica[\"size_MB\"][(Senterica[\"LibrarySource\"] == \"GENOMIC\") & (Senterica[\"size_MB\"] < 500)]\n",
    "mu, sigma = x.mean(), x.std()\n",
    "\n",
    "# the histogram of the data\n",
    "n, bins, patches = plt.hist(x, 50, density = True, facecolor='green', alpha=0.75)\n",
    "\n",
    "# add a 'best fit' line\n",
    "y = norm.pdf(bins, mu, sigma)\n",
    "l = plt.plot(bins, y, 'r--', linewidth=1)\n",
    "\n",
    "plt.xlabel('Size in MB')\n",
    "plt.ylabel('Probability')\n",
    "plt.title('Size in MB for S. enterica SRA datasets')\n",
    "plt.axis([0, 500, 0, 0.005])\n",
    "plt.grid(True)\n",
    "\n",
    "plt.show()"
   ]
  },
  {
   "cell_type": "markdown",
   "metadata": {},
   "source": [
    "It looks like most datasets are between 50 and 350 MB in size."
   ]
  },
  {
   "cell_type": "markdown",
   "metadata": {},
   "source": [
    "## Dataset `bases` and Coverage Criteria\n",
    "\n",
    "Whereas the above histograms are of `size_MB`, the RunInfo includes `bases`, which will be useful for determining the number of genomic datasets that have sufficient bases to meet a coverage criterion.\n",
    "\n",
    "Since the median size of a *S. enterica* genome is about 4.8 Mbases, to obtain 30x Illumina coverage, one needs 4.8 X 30 = 144 Mbases of quality sequence data. If one doubles that to 60x coverage, then 4.8 X 60 = 288 Mbases of quality sequence data are needed."
   ]
  },
  {
   "cell_type": "code",
   "execution_count": 6,
   "metadata": {},
   "outputs": [
    {
     "data": {
      "text/plain": [
       "144.0"
      ]
     },
     "execution_count": 6,
     "metadata": {},
     "output_type": "execute_result"
    }
   ],
   "source": [
    "4.8 * 30"
   ]
  },
  {
   "cell_type": "code",
   "execution_count": 7,
   "metadata": {},
   "outputs": [
    {
     "data": {
      "text/plain": [
       "288.0"
      ]
     },
     "execution_count": 7,
     "metadata": {},
     "output_type": "execute_result"
    }
   ],
   "source": [
    "4.8 * 60"
   ]
  },
  {
   "cell_type": "markdown",
   "metadata": {},
   "source": [
    "The following provides the number of genomic datasets that meet the 30X coverage criterion."
   ]
  },
  {
   "cell_type": "code",
   "execution_count": 27,
   "metadata": {},
   "outputs": [
    {
     "data": {
      "text/plain": [
       "403749"
      ]
     },
     "execution_count": 27,
     "metadata": {},
     "output_type": "execute_result"
    }
   ],
   "source": [
    "len(np.where((Senterica[\"LibrarySource\"] == \"GENOMIC\") & (Senterica[\"bases\"]>144000000))[0])"
   ]
  },
  {
   "cell_type": "markdown",
   "metadata": {},
   "source": [
    "And expressed as a proportion of `GENOMIC` datasets:"
   ]
  },
  {
   "cell_type": "code",
   "execution_count": 28,
   "metadata": {},
   "outputs": [
    {
     "data": {
      "text/plain": [
       "0.9668596798758585"
      ]
     },
     "execution_count": 28,
     "metadata": {},
     "output_type": "execute_result"
    }
   ],
   "source": [
    "len(np.where((Senterica[\"LibrarySource\"] == \"GENOMIC\") & (Senterica[\"bases\"]>144000000))[0])/len(Senterica[\"LibrarySource\"] == \"GENOMIC\")"
   ]
  },
  {
   "cell_type": "markdown",
   "metadata": {},
   "source": [
    "The number of datasets meeting a 60X coverage criterion is smaller:"
   ]
  },
  {
   "cell_type": "code",
   "execution_count": 26,
   "metadata": {},
   "outputs": [
    {
     "data": {
      "text/plain": [
       "326520"
      ]
     },
     "execution_count": 26,
     "metadata": {},
     "output_type": "execute_result"
    }
   ],
   "source": [
    "len(np.where((Senterica[\"LibrarySource\"] == \"GENOMIC\") & (Senterica[\"bases\"]>288000000))[0])"
   ]
  },
  {
   "cell_type": "markdown",
   "metadata": {},
   "source": [
    "and the proportion of `GENOMIC` datasets that have 60X coverage is smaller as well:"
   ]
  },
  {
   "cell_type": "code",
   "execution_count": 24,
   "metadata": {},
   "outputs": [
    {
     "data": {
      "text/plain": [
       "0.7819190206615133"
      ]
     },
     "execution_count": 24,
     "metadata": {},
     "output_type": "execute_result"
    }
   ],
   "source": [
    "len(np.where((Senterica[\"LibrarySource\"] == \"GENOMIC\") & (Senterica[\"bases\"]>288000000))[0])/len(Senterica[\"LibrarySource\"] == \"GENOMIC\")"
   ]
  },
  {
   "cell_type": "markdown",
   "metadata": {},
   "source": [
    "## Histogram of `bases`\n",
    "\n",
    "I create a histogram of `bases`, limiting the range from 0 to 1 x10^9 bases, or 1 Gbase, equivalent to 208X coverage for a 4.8 Mbase *S. enterica* genome."
   ]
  },
  {
   "cell_type": "code",
   "execution_count": 69,
   "metadata": {},
   "outputs": [
    {
     "data": {
      "text/plain": [
       "208.33333333333334"
      ]
     },
     "execution_count": 69,
     "metadata": {},
     "output_type": "execute_result"
    }
   ],
   "source": [
    "1000000000/4800000"
   ]
  },
  {
   "cell_type": "code",
   "execution_count": 33,
   "metadata": {
    "scrolled": true
   },
   "outputs": [
    {
     "data": {
      "text/plain": [
       "(array([  6084.,  22750.,  71250., 109147.,  87021.,  53491.,  27797.,\n",
       "         14967.,   7871.,   4492.]),\n",
       " array([0.00000000e+00, 9.99980373e+07, 1.99996075e+08, 2.99994112e+08,\n",
       "        3.99992149e+08, 4.99990186e+08, 5.99988224e+08, 6.99986261e+08,\n",
       "        7.99984298e+08, 8.99982336e+08, 9.99980373e+08]),\n",
       " <a list of 10 Patch objects>)"
      ]
     },
     "execution_count": 33,
     "metadata": {},
     "output_type": "execute_result"
    },
    {
     "data": {
      "image/png": "[encoded data removed]",
      "text/plain": [
       "<Figure size 432x288 with 1 Axes>"
      ]
     },
     "metadata": {
      "needs_background": "light"
     },
     "output_type": "display_data"
    }
   ],
   "source": [
    "plt.hist(Senterica[\"bases\"][(Senterica[\"LibrarySource\"] == \"GENOMIC\") & (Senterica[\"bases\"]<1000000000)])"
   ]
  },
  {
   "cell_type": "markdown",
   "metadata": {},
   "source": [
    "It appears that most datasets have arond 400 Mbases and range from about 200 to 700 Mbases."
   ]
  },
  {
   "cell_type": "markdown",
   "metadata": {},
   "source": [
    "## The Ratio of `size_MB` to `bases`"
   ]
  },
  {
   "cell_type": "markdown",
   "metadata": {},
   "source": [
    "Assuming that `size_MB` is the filesize of the dataset in the SRA data compression format and that `bases` represent that number of nucleotide bases among the raw reads in the dataset, then we may divide these 2 values to obtain a compression ratio, although the best would be to have the value for filesize before SRA compression as well and use this number instead of the bases. Nonetheless, dividing `size_MB` and `bases` will still provide a ratio that can be plotted as a histogram to identify outliers and to obtain a visualization of the range of ratios.\n",
    "\n",
    "First, I calculate the `size_MB/bases`."
   ]
  },
  {
   "cell_type": "code",
   "execution_count": 64,
   "metadata": {},
   "outputs": [
    {
     "data": {
      "text/plain": [
       "0         0.470962\n",
       "1         0.459439\n",
       "2         0.456963\n",
       "3         0.476775\n",
       "4         0.577177\n",
       "            ...   \n",
       "417583    0.512832\n",
       "417584    0.524792\n",
       "417585    0.518533\n",
       "417586    0.530165\n",
       "417587    0.522399\n",
       "Length: 414901, dtype: float64"
      ]
     },
     "execution_count": 64,
     "metadata": {},
     "output_type": "execute_result"
    }
   ],
   "source": [
    "(Senterica[\"size_MB\"][Senterica[\"LibrarySource\"] == \"GENOMIC\"]*1000000)/(Senterica[\"bases\"][Senterica[\"LibrarySource\"] == \"GENOMIC\"])"
   ]
  },
  {
   "cell_type": "markdown",
   "metadata": {},
   "source": [
    "Next, I determine the maximum of this ratio of `size_MB` to `bases`."
   ]
  },
  {
   "cell_type": "code",
   "execution_count": 63,
   "metadata": {},
   "outputs": [
    {
     "data": {
      "text/plain": [
       "inf"
      ]
     },
     "execution_count": 63,
     "metadata": {},
     "output_type": "execute_result"
    }
   ],
   "source": [
    "((Senterica[\"size_MB\"][Senterica[\"LibrarySource\"] == \"GENOMIC\"]*1000000)/(Senterica[\"bases\"][Senterica[\"LibrarySource\"] == \"GENOMIC\"])).max()"
   ]
  },
  {
   "cell_type": "markdown",
   "metadata": {},
   "source": [
    "Of concern is that the maximum is infinity. This could result from having zeros in the denominator, and hence I'll look for zeros in `bases`."
   ]
  },
  {
   "cell_type": "code",
   "execution_count": 9,
   "metadata": {},
   "outputs": [
    {
     "data": {
      "text/plain": [
       "0"
      ]
     },
     "execution_count": 9,
     "metadata": {},
     "output_type": "execute_result"
    }
   ],
   "source": [
    "(Senterica[\"bases\"][Senterica[\"LibrarySource\"] == \"GENOMIC\"]).min()"
   ]
  },
  {
   "cell_type": "markdown",
   "metadata": {},
   "source": [
    "And there are zeros present. I'll go ahead and look for zeros in `size_MB`."
   ]
  },
  {
   "cell_type": "code",
   "execution_count": 7,
   "metadata": {},
   "outputs": [
    {
     "data": {
      "text/plain": [
       "0.0"
      ]
     },
     "execution_count": 7,
     "metadata": {},
     "output_type": "execute_result"
    }
   ],
   "source": [
    "((Senterica[\"size_MB\"][Senterica[\"LibrarySource\"] == \"GENOMIC\"]*1000000)/(Senterica[\"bases\"][Senterica[\"LibrarySource\"] == \"GENOMIC\"])).min()"
   ]
  },
  {
   "cell_type": "markdown",
   "metadata": {},
   "source": [
    "And zeros are present in `size_MB` too. These data will have to be excluded. First, I'll determine how many data with zeros are present."
   ]
  },
  {
   "cell_type": "code",
   "execution_count": 66,
   "metadata": {},
   "outputs": [
    {
     "data": {
      "text/plain": [
       "1291"
      ]
     },
     "execution_count": 66,
     "metadata": {},
     "output_type": "execute_result"
    }
   ],
   "source": [
    "len(Senterica[\"size_MB\"][(Senterica[\"LibrarySource\"] == \"GENOMIC\") & (Senterica[\"size_MB\"] == 0)])"
   ]
  },
  {
   "cell_type": "code",
   "execution_count": 67,
   "metadata": {},
   "outputs": [
    {
     "data": {
      "text/plain": [
       "813"
      ]
     },
     "execution_count": 67,
     "metadata": {},
     "output_type": "execute_result"
    }
   ],
   "source": [
    "len(Senterica[\"bases\"][(Senterica[\"LibrarySource\"] == \"GENOMIC\") & (Senterica[\"bases\"] == 0)])"
   ]
  },
  {
   "cell_type": "code",
   "execution_count": 68,
   "metadata": {},
   "outputs": [
    {
     "data": {
      "text/plain": [
       "812"
      ]
     },
     "execution_count": 68,
     "metadata": {},
     "output_type": "execute_result"
    }
   ],
   "source": [
    "len(Senterica[\"bases\"][(Senterica[\"LibrarySource\"] == \"GENOMIC\") & (Senterica[\"size_MB\"] == 0) & (Senterica[\"bases\"] == 0)])"
   ]
  },
  {
   "cell_type": "markdown",
   "metadata": {},
   "source": [
    "Now I use the \"not equal to\" boolean `!=` to exclude those data that are 0 in `size_MB` and `bases` to obtain the ratio of `bases/size_MB`. Then I create the object `base_filesize_ratio` to store the ratios."
   ]
  },
  {
   "cell_type": "code",
   "execution_count": 41,
   "metadata": {},
   "outputs": [
    {
     "data": {
      "text/plain": [
       "0         2.123314\n",
       "1         2.176569\n",
       "2         2.188362\n",
       "3         2.097427\n",
       "4         1.732571\n",
       "            ...   \n",
       "417583    1.949957\n",
       "417584    1.905517\n",
       "417585    1.928518\n",
       "417586    1.886207\n",
       "417587    1.914247\n",
       "Length: 413609, dtype: float64"
      ]
     },
     "execution_count": 41,
     "metadata": {},
     "output_type": "execute_result"
    }
   ],
   "source": [
    "(Senterica[\"bases\"][(Senterica[\"LibrarySource\"] == \"GENOMIC\") & (Senterica[\"size_MB\"] != 0) & (Senterica[\"bases\"] != 0)])/(1000000*Senterica[\"size_MB\"][(Senterica[\"LibrarySource\"] == \"GENOMIC\") & (Senterica[\"size_MB\"] != 0) & (Senterica[\"bases\"] != 0)])"
   ]
  },
  {
   "cell_type": "code",
   "execution_count": 42,
   "metadata": {},
   "outputs": [],
   "source": [
    "base_filesize_ratio = (Senterica[\"bases\"][(Senterica[\"LibrarySource\"] == \"GENOMIC\") & (Senterica[\"size_MB\"] != 0) & (Senterica[\"bases\"] != 0)])/(1000000*Senterica[\"size_MB\"][(Senterica[\"LibrarySource\"] == \"GENOMIC\") & (Senterica[\"size_MB\"] != 0) & (Senterica[\"bases\"] != 0)])"
   ]
  },
  {
   "cell_type": "code",
   "execution_count": 44,
   "metadata": {},
   "outputs": [
    {
     "data": {
      "text/plain": [
       "0.01975179069767442"
      ]
     },
     "execution_count": 44,
     "metadata": {},
     "output_type": "execute_result"
    }
   ],
   "source": [
    "base_filesize_ratio.min()"
   ]
  },
  {
   "cell_type": "code",
   "execution_count": 45,
   "metadata": {},
   "outputs": [
    {
     "data": {
      "text/plain": [
       "17.17511878723404"
      ]
     },
     "execution_count": 45,
     "metadata": {},
     "output_type": "execute_result"
    }
   ],
   "source": [
    "base_filesize_ratio.max()"
   ]
  },
  {
   "cell_type": "code",
   "execution_count": 46,
   "metadata": {},
   "outputs": [
    {
     "data": {
      "text/plain": [
       "2.029096437142384"
      ]
     },
     "execution_count": 46,
     "metadata": {},
     "output_type": "execute_result"
    }
   ],
   "source": [
    "base_filesize_ratio.mean()"
   ]
  },
  {
   "cell_type": "markdown",
   "metadata": {},
   "source": [
    "The mean ratio of `bases` to `size_MB` is about 2, although there are values as high as 17 and as low as 0.02."
   ]
  },
  {
   "cell_type": "markdown",
   "metadata": {},
   "source": [
    "## Histogram of `bases` to `size_MB` Ratio\n",
    "\n",
    "I create a histogram of the `bases` to `size_MB` Ratio with 25 bins and zooming in on the range 0 to 5 where most of the data occur."
   ]
  },
  {
   "cell_type": "code",
   "execution_count": 61,
   "metadata": {
    "scrolled": true
   },
   "outputs": [
    {
     "data": {
      "text/plain": [
       "(array([7.40000e+01, 8.61000e+02, 7.60000e+02, 3.00000e+00, 2.00000e+00,\n",
       "        8.22000e+02, 1.19100e+03, 3.18880e+04, 1.35719e+05, 8.69900e+04,\n",
       "        3.88330e+04, 5.88370e+04, 3.09850e+04, 7.48800e+03, 2.29000e+03,\n",
       "        1.52500e+03, 1.20000e+03, 1.17000e+03, 1.35400e+03, 1.96200e+03,\n",
       "        2.28900e+03, 1.60700e+03, 1.60600e+03, 9.55000e+02, 7.55000e+02]),\n",
       " array([0. , 0.2, 0.4, 0.6, 0.8, 1. , 1.2, 1.4, 1.6, 1.8, 2. , 2.2, 2.4,\n",
       "        2.6, 2.8, 3. , 3.2, 3.4, 3.6, 3.8, 4. , 4.2, 4.4, 4.6, 4.8, 5. ]),\n",
       " <a list of 25 Patch objects>)"
      ]
     },
     "execution_count": 61,
     "metadata": {},
     "output_type": "execute_result"
    },
    {
     "data": {
      "image/png": "[encoded data removed]",
      "text/plain": [
       "<Figure size 432x288 with 1 Axes>"
      ]
     },
     "metadata": {
      "needs_background": "light"
     },
     "output_type": "display_data"
    }
   ],
   "source": [
    "plt.hist(base_filesize_ratio, bins = 25, range=[0, 5])"
   ]
  },
  {
   "cell_type": "markdown",
   "metadata": {},
   "source": [
    "I narrow the y-axis range to highlight the data with higher ratios from about 8 to 17, although these comprise only a few data points. There may be something irregular about these datasets, and they should be identified and a decision should be made as to whether to eliminate them from analysis."
   ]
  },
  {
   "cell_type": "code",
   "execution_count": 62,
   "metadata": {},
   "outputs": [
    {
     "data": {
      "text/plain": [
       "(0.0, 20.0)"
      ]
     },
     "execution_count": 62,
     "metadata": {},
     "output_type": "execute_result"
    },
    {
     "data": {
      "image/png": "[encoded data removed]",
      "text/plain": [
       "<Figure size 432x288 with 1 Axes>"
      ]
     },
     "metadata": {
      "needs_background": "light"
     },
     "output_type": "display_data"
    }
   ],
   "source": [
    "plt.hist(base_filesize_ratio, bins = 25)\n",
    "plt.ylim(0,20)"
   ]
  },
  {
   "cell_type": "markdown",
   "metadata": {},
   "source": [
    "## Scatterplots of `size_MB` vs. `bases`\n",
    "\n",
    "The filesize as `size_MB` should increase proportionally to the number of bases `bases`. Hence, I'll produce a scatterplot to see whether the linear effect is present."
   ]
  },
  {
   "cell_type": "code",
   "execution_count": 37,
   "metadata": {},
   "outputs": [
    {
     "data": {
      "image/png": "[encoded data removed]",
      "text/plain": [
       "<Figure size 432x288 with 1 Axes>"
      ]
     },
     "metadata": {
      "needs_background": "light"
     },
     "output_type": "display_data"
    }
   ],
   "source": [
    "x = Senterica[\"size_MB\"]\n",
    "y = Senterica[\"bases\"]\n",
    "\n",
    "plt.scatter(x, y, s=1, alpha=0.5)\n",
    "plt.show()"
   ]
  },
  {
   "cell_type": "markdown",
   "metadata": {},
   "source": [
    "Indeed, there is a linear increase, although there are several distinct ratios. I'll color the points on the scatterplot by some of the categorical variables like `Platform` to try to identify the factor leading to apparently distinct ratios of `size_MB` to `bases`."
   ]
  },
  {
   "cell_type": "code",
   "execution_count": 52,
   "metadata": {},
   "outputs": [
    {
     "data": {
      "image/png": "[encoded data removed]",
      "text/plain": [
       "<Figure size 432x288 with 1 Axes>"
      ]
     },
     "metadata": {
      "needs_background": "light"
     },
     "output_type": "display_data"
    }
   ],
   "source": [
    "x = Senterica[\"size_MB\"]\n",
    "y = Senterica[\"bases\"]\n",
    "\n",
    "col_platform = Senterica[\"Platform\"].astype('category').cat.codes\n",
    "\n",
    "plt.scatter(x, y, s=1, c=col_platform, alpha=0.5)\n",
    "\n",
    "plt.show()"
   ]
  },
  {
   "cell_type": "markdown",
   "metadata": {},
   "source": [
    "This might be related to platform, although I'll produce a multi-panel plot to look at several of the categorical variables side-by-side."
   ]
  },
  {
   "cell_type": "code",
   "execution_count": 79,
   "metadata": {},
   "outputs": [
    {
     "data": {
      "image/png": "[encoded data removed]",
      "text/plain": [
       "<Figure size 1296x720 with 6 Axes>"
      ]
     },
     "metadata": {
      "needs_background": "light"
     },
     "output_type": "display_data"
    }
   ],
   "source": [
    "x = Senterica[\"size_MB\"]\n",
    "y = Senterica[\"bases\"]\n",
    "\n",
    "fig, ax = plt.subplots(nrows=2, ncols=3, sharex= True, sharey = True, figsize=(18, 10))\n",
    "\n",
    "fig.text(0.5, 0.04, 'Size in MB', ha='center')\n",
    "fig.text(0.04, 0.5, 'Bases', va='center', rotation='vertical')\n",
    "\n",
    "col_platform = Senterica[\"Platform\"].astype('category').cat.codes\n",
    "col_model = Senterica[\"Model\"].astype('category').cat.codes\n",
    "col_libstrat = Senterica[\"LibraryStrategy\"].astype('category').cat.codes\n",
    "col_libselection = Senterica[\"LibrarySelection\"].astype('category').cat.codes\n",
    "col_liblayout = Senterica[\"LibraryLayout\"].astype('category').cat.codes\n",
    "col_samptype = Senterica[\"SampleType\"].astype('category').cat.codes\n",
    "\n",
    "# First row of figures\n",
    "ax[0,0].scatter(x, y, c=col_platform, s=1)\n",
    "ax[0,0].set_title('Color by Platform')\n",
    "\n",
    "ax[0,1].scatter(x, y, c=col_model, s=1)\n",
    "ax[0,1].set_title('Color by Model')\n",
    "\n",
    "ax[0,2].scatter(x, y, c=col_libstrat, s=1)\n",
    "ax[0,2].set_title('Color by Library Strategy')\n",
    "\n",
    "# Second row of figures\n",
    "ax[1,0].scatter(x, y, c=col_libselection, s=1)\n",
    "ax[1,0].set_title('Color by Library Selection')\n",
    "\n",
    "ax[1,1].scatter(x, y, c=col_liblayout, s=1)\n",
    "ax[1,1].set_title('Color by Library Layout')\n",
    "\n",
    "ax[1,2].scatter(x, y, c=col_samptype, s=1)\n",
    "ax[1,2].set_title('Color by Sample Type')\n",
    "\n",
    "plt.show()\n",
    "\n",
    "fig.savefig('SentericaMByteByBasesMultipanel.png', dpi=100)"
   ]
  },
  {
   "cell_type": "code",
   "execution_count": 9,
   "metadata": {},
   "outputs": [
    {
     "data": {
      "text/plain": [
       "0         2021-07-31 15:54:42\n",
       "1         2021-08-02 00:00:27\n",
       "2         2021-08-02 00:00:27\n",
       "3         2021-08-02 00:00:27\n",
       "4         2021-08-02 01:08:14\n",
       "                 ...         \n",
       "417583    2021-07-31 21:05:40\n",
       "417584    2021-07-31 21:05:40\n",
       "417585    2021-07-31 21:05:40\n",
       "417586    2021-07-31 20:56:03\n",
       "417587    2021-07-31 21:05:41\n",
       "Name: ReleaseDate, Length: 414901, dtype: object"
      ]
     },
     "execution_count": 9,
     "metadata": {},
     "output_type": "execute_result"
    }
   ],
   "source": [
    "#pd.to_datetime(np.datetime\n",
    "Senterica[\"ReleaseDate\"][Senterica[\"LibrarySource\"] == \"GENOMIC\"]"
   ]
  },
  {
   "cell_type": "code",
   "execution_count": 13,
   "metadata": {},
   "outputs": [],
   "source": [
    "time_examp = np.datetime64(\"2021-07-31 15:54:42\")"
   ]
  },
  {
   "cell_type": "code",
   "execution_count": 14,
   "metadata": {},
   "outputs": [
    {
     "data": {
      "text/plain": [
       "numpy.datetime64"
      ]
     },
     "execution_count": 14,
     "metadata": {},
     "output_type": "execute_result"
    }
   ],
   "source": [
    "type(time_examp)"
   ]
  },
  {
   "cell_type": "code",
   "execution_count": 17,
   "metadata": {},
   "outputs": [
    {
     "data": {
      "text/plain": [
       "'Saturday'"
      ]
     },
     "execution_count": 17,
     "metadata": {},
     "output_type": "execute_result"
    }
   ],
   "source": [
    "pd.Timestamp(time_examp).day_name()"
   ]
  },
  {
   "cell_type": "code",
   "execution_count": 28,
   "metadata": {},
   "outputs": [
    {
     "data": {
      "text/plain": [
       "pandas._libs.tslibs.timestamps.Timestamp"
      ]
     },
     "execution_count": 28,
     "metadata": {},
     "output_type": "execute_result"
    }
   ],
   "source": [
    "type(pd.to_datetime(time_examp))"
   ]
  },
  {
   "cell_type": "code",
   "execution_count": 32,
   "metadata": {},
   "outputs": [
    {
     "data": {
      "text/plain": [
       "0        2021-07-31 15:54:42\n",
       "1        2021-08-02 00:00:27\n",
       "2        2021-08-02 00:00:27\n",
       "3        2021-08-02 00:00:27\n",
       "4        2021-08-02 01:08:14\n",
       "                 ...        \n",
       "417583   2021-07-31 21:05:40\n",
       "417584   2021-07-31 21:05:40\n",
       "417585   2021-07-31 21:05:40\n",
       "417586   2021-07-31 20:56:03\n",
       "417587   2021-07-31 21:05:41\n",
       "Name: ReleaseDate, Length: 414901, dtype: datetime64[ns]"
      ]
     },
     "execution_count": 32,
     "metadata": {},
     "output_type": "execute_result"
    }
   ],
   "source": [
    "pd.to_datetime(Senterica[\"ReleaseDate\"][Senterica[\"LibrarySource\"] == \"GENOMIC\"])"
   ]
  },
  {
   "cell_type": "code",
   "execution_count": 231,
   "metadata": {},
   "outputs": [
    {
     "data": {
      "text/plain": [
       "0         2021\n",
       "1         2021\n",
       "2         2021\n",
       "3         2021\n",
       "4         2021\n",
       "          ... \n",
       "417583    2021\n",
       "417584    2021\n",
       "417585    2021\n",
       "417586    2021\n",
       "417587    2021\n",
       "Name: ReleaseDate, Length: 414901, dtype: int64"
      ]
     },
     "execution_count": 231,
     "metadata": {},
     "output_type": "execute_result"
    }
   ],
   "source": [
    "#pd.to_datetime(Senterica[\"ReleaseDate\"][Senterica[\"LibrarySource\"] == \"GENOMIC\"]).dt.to_period('A')\n",
    "#pd.to_datetime(Senterica[\"ReleaseDate\"][Senterica[\"LibrarySource\"] == \"GENOMIC\"]).dt.year\n",
    "#pd.to_datetime(Senterica[\"ReleaseDate\"][Senterica[\"LibrarySource\"] == \"GENOMIC\"]).dt.dayofweek\n",
    "#pd.to_datetime(Senterica[\"ReleaseDate\"][Senterica[\"LibrarySource\"] == \"GENOMIC\"]).dt.weekofyear\n",
    "#pd.to_datetime(Senterica[\"ReleaseDate\"][Senterica[\"LibrarySource\"] == \"GENOMIC\"]).dt.dayofyear"
   ]
  },
  {
   "cell_type": "code",
   "execution_count": 226,
   "metadata": {},
   "outputs": [
    {
     "data": {
      "text/plain": [
       "0         2021\n",
       "1         2021\n",
       "2         2021\n",
       "3         2021\n",
       "4         2021\n",
       "          ... \n",
       "417583    2021\n",
       "417584    2021\n",
       "417585    2021\n",
       "417586    2021\n",
       "417587    2021\n",
       "Name: ReleaseDate, Length: 414901, dtype: int64"
      ]
     },
     "execution_count": 226,
     "metadata": {},
     "output_type": "execute_result"
    }
   ],
   "source": [
    "Senterica[\"ReleaseDate\"][Senterica[\"LibrarySource\"] == \"GENOMIC\"].dt.year"
   ]
  },
  {
   "cell_type": "code",
   "execution_count": 215,
   "metadata": {},
   "outputs": [
    {
     "data": {
      "text/plain": [
       "2019    85695\n",
       "2020    82947\n",
       "2018    79590\n",
       "2017    49315\n",
       "2021    45904\n",
       "2015    23951\n",
       "2016    23735\n",
       "2014    15421\n",
       "2013     4877\n",
       "2011     1912\n",
       "2012     1461\n",
       "2010       91\n",
       "2009        2\n",
       "Name: ReleaseDate, dtype: int64"
      ]
     },
     "execution_count": 215,
     "metadata": {},
     "output_type": "execute_result"
    }
   ],
   "source": [
    "release_years = pd.to_datetime(Senterica[\"ReleaseDate\"][Senterica[\"LibrarySource\"] == \"GENOMIC\"]).dt.year\n",
    "release_year_counts = pd.Series(release_years).value_counts()\n",
    "release_year_counts"
   ]
  },
  {
   "cell_type": "code",
   "execution_count": 214,
   "metadata": {},
   "outputs": [
    {
     "data": {
      "text/plain": [
       "array([85695, 82947, 79590, 49315, 45904, 23951, 23735, 15421,  4877,\n",
       "        1912,  1461,    91,     2])"
      ]
     },
     "execution_count": 214,
     "metadata": {},
     "output_type": "execute_result"
    }
   ],
   "source": [
    "release_year_counts.name"
   ]
  },
  {
   "cell_type": "code",
   "execution_count": null,
   "metadata": {},
   "outputs": [],
   "source": [
    "release_year_counts.index"
   ]
  },
  {
   "cell_type": "code",
   "execution_count": null,
   "metadata": {},
   "outputs": [],
   "source": [
    "release_year_counts.values"
   ]
  },
  {
   "cell_type": "code",
   "execution_count": null,
   "metadata": {},
   "outputs": [],
   "source": [
    "release_year_counts.iloc[3]"
   ]
  },
  {
   "cell_type": "code",
   "execution_count": 217,
   "metadata": {},
   "outputs": [
    {
     "data": {
      "text/plain": [
       "2009        2\n",
       "2010       91\n",
       "2011     1912\n",
       "2012     1461\n",
       "2013     4877\n",
       "2014    15421\n",
       "2015    23951\n",
       "2016    23735\n",
       "2017    49315\n",
       "2018    79590\n",
       "2019    85695\n",
       "2020    82947\n",
       "2021    45904\n",
       "Name: ReleaseDate, dtype: int64"
      ]
     },
     "execution_count": 217,
     "metadata": {},
     "output_type": "execute_result"
    }
   ],
   "source": [
    "release_year_counts.sort_index()"
   ]
  },
  {
   "cell_type": "code",
   "execution_count": 218,
   "metadata": {},
   "outputs": [],
   "source": [
    "release_year_counts_index_sorted = release_year_counts.sort_index()"
   ]
  },
  {
   "cell_type": "code",
   "execution_count": 251,
   "metadata": {},
   "outputs": [
    {
     "data": {
      "image/png": "[encoded data removed]",
      "text/plain": [
       "<Figure size 432x288 with 1 Axes>"
      ]
     },
     "metadata": {
      "needs_background": "light"
     },
     "output_type": "display_data"
    }
   ],
   "source": [
    "fig = plt.figure()\n",
    "ax = fig.add_axes([0,0,1,1])\n",
    "ax.bar(release_year_counts_index_sorted.index,release_year_counts_index_sorted.values)\n",
    "ax.set_ylabel('Number of Datasets Released')\n",
    "ax.set_title('S. enterica SRA Datasets Released by Year')\n",
    "ax.set_xlabel('Year')\n",
    "plt.show()"
   ]
  },
  {
   "cell_type": "code",
   "execution_count": 199,
   "metadata": {},
   "outputs": [
    {
     "data": {
      "text/html": [
       "<div>\n",
       "<style scoped>\n",
       "    .dataframe tbody tr th:only-of-type {\n",
       "        vertical-align: middle;\n",
       "    }\n",
       "\n",
       "    .dataframe tbody tr th {\n",
       "        vertical-align: top;\n",
       "    }\n",
       "\n",
       "    .dataframe thead th {\n",
       "        text-align: right;\n",
       "    }\n",
       "</style>\n",
       "<table border=\"1\" class=\"dataframe\">\n",
       "  <thead>\n",
       "    <tr style=\"text-align: right;\">\n",
       "      <th></th>\n",
       "      <th>year</th>\n",
       "      <th>count</th>\n",
       "    </tr>\n",
       "  </thead>\n",
       "  <tbody>\n",
       "    <tr>\n",
       "      <th>0</th>\n",
       "      <td>2009</td>\n",
       "      <td>2</td>\n",
       "    </tr>\n",
       "    <tr>\n",
       "      <th>1</th>\n",
       "      <td>2010</td>\n",
       "      <td>91</td>\n",
       "    </tr>\n",
       "    <tr>\n",
       "      <th>2</th>\n",
       "      <td>2011</td>\n",
       "      <td>1912</td>\n",
       "    </tr>\n",
       "    <tr>\n",
       "      <th>3</th>\n",
       "      <td>2012</td>\n",
       "      <td>1461</td>\n",
       "    </tr>\n",
       "    <tr>\n",
       "      <th>4</th>\n",
       "      <td>2013</td>\n",
       "      <td>4877</td>\n",
       "    </tr>\n",
       "    <tr>\n",
       "      <th>5</th>\n",
       "      <td>2014</td>\n",
       "      <td>15421</td>\n",
       "    </tr>\n",
       "    <tr>\n",
       "      <th>6</th>\n",
       "      <td>2015</td>\n",
       "      <td>23951</td>\n",
       "    </tr>\n",
       "    <tr>\n",
       "      <th>7</th>\n",
       "      <td>2016</td>\n",
       "      <td>23735</td>\n",
       "    </tr>\n",
       "    <tr>\n",
       "      <th>8</th>\n",
       "      <td>2017</td>\n",
       "      <td>49315</td>\n",
       "    </tr>\n",
       "    <tr>\n",
       "      <th>9</th>\n",
       "      <td>2018</td>\n",
       "      <td>79590</td>\n",
       "    </tr>\n",
       "    <tr>\n",
       "      <th>10</th>\n",
       "      <td>2019</td>\n",
       "      <td>85695</td>\n",
       "    </tr>\n",
       "    <tr>\n",
       "      <th>11</th>\n",
       "      <td>2020</td>\n",
       "      <td>82947</td>\n",
       "    </tr>\n",
       "  </tbody>\n",
       "</table>\n",
       "</div>"
      ],
      "text/plain": [
       "    year  count\n",
       "0   2009      2\n",
       "1   2010     91\n",
       "2   2011   1912\n",
       "3   2012   1461\n",
       "4   2013   4877\n",
       "5   2014  15421\n",
       "6   2015  23951\n",
       "7   2016  23735\n",
       "8   2017  49315\n",
       "9   2018  79590\n",
       "10  2019  85695\n",
       "11  2020  82947"
      ]
     },
     "execution_count": 199,
     "metadata": {},
     "output_type": "execute_result"
    }
   ],
   "source": [
    "yr_uniq, counts = np.unique(release_years, return_counts=True)\n",
    "d = {'year': yr_uniq, 'count': counts}\n",
    "Senterica_annual_counts = pd.DataFrame(d)\n",
    "Senterica_annual_counts = Senterica_annual_counts[Senterica_annual_counts[\"year\"] != 2021] # Remove 2021\n",
    "Senterica_annual_counts"
   ]
  },
  {
   "cell_type": "code",
   "execution_count": 250,
   "metadata": {
    "scrolled": true
   },
   "outputs": [
    {
     "data": {
      "image/png": "[encoded data removed]",
      "text/plain": [
       "<Figure size 432x288 with 1 Axes>"
      ]
     },
     "metadata": {
      "needs_background": "light"
     },
     "output_type": "display_data"
    }
   ],
   "source": [
    "fig = plt.figure()\n",
    "ax = fig.add_axes([0,0,1,1])\n",
    "ax.bar(Senterica_annual_counts[\"year\"],Senterica_annual_counts[\"count\"])\n",
    "ax.set_ylabel('Number of Datasets Released')\n",
    "ax.set_title('S. enterica SRA Datasets Released by Year')\n",
    "ax.set_xlabel('Year')\n",
    "plt.show()"
   ]
  },
  {
   "cell_type": "code",
   "execution_count": 190,
   "metadata": {},
   "outputs": [
    {
     "data": {
      "text/html": [
       "<div>\n",
       "<style scoped>\n",
       "    .dataframe tbody tr th:only-of-type {\n",
       "        vertical-align: middle;\n",
       "    }\n",
       "\n",
       "    .dataframe tbody tr th {\n",
       "        vertical-align: top;\n",
       "    }\n",
       "\n",
       "    .dataframe thead th {\n",
       "        text-align: right;\n",
       "    }\n",
       "</style>\n",
       "<table border=\"1\" class=\"dataframe\">\n",
       "  <thead>\n",
       "    <tr style=\"text-align: right;\">\n",
       "      <th></th>\n",
       "      <th>year</th>\n",
       "      <th>count</th>\n",
       "    </tr>\n",
       "  </thead>\n",
       "  <tbody>\n",
       "    <tr>\n",
       "      <th>0</th>\n",
       "      <td>2009</td>\n",
       "      <td>2</td>\n",
       "    </tr>\n",
       "    <tr>\n",
       "      <th>1</th>\n",
       "      <td>2010</td>\n",
       "      <td>91</td>\n",
       "    </tr>\n",
       "    <tr>\n",
       "      <th>2</th>\n",
       "      <td>2011</td>\n",
       "      <td>1912</td>\n",
       "    </tr>\n",
       "    <tr>\n",
       "      <th>3</th>\n",
       "      <td>2012</td>\n",
       "      <td>1461</td>\n",
       "    </tr>\n",
       "    <tr>\n",
       "      <th>4</th>\n",
       "      <td>2013</td>\n",
       "      <td>4877</td>\n",
       "    </tr>\n",
       "    <tr>\n",
       "      <th>5</th>\n",
       "      <td>2014</td>\n",
       "      <td>15421</td>\n",
       "    </tr>\n",
       "    <tr>\n",
       "      <th>6</th>\n",
       "      <td>2015</td>\n",
       "      <td>23951</td>\n",
       "    </tr>\n",
       "    <tr>\n",
       "      <th>7</th>\n",
       "      <td>2016</td>\n",
       "      <td>23735</td>\n",
       "    </tr>\n",
       "    <tr>\n",
       "      <th>8</th>\n",
       "      <td>2017</td>\n",
       "      <td>49315</td>\n",
       "    </tr>\n",
       "    <tr>\n",
       "      <th>9</th>\n",
       "      <td>2018</td>\n",
       "      <td>79590</td>\n",
       "    </tr>\n",
       "    <tr>\n",
       "      <th>10</th>\n",
       "      <td>2019</td>\n",
       "      <td>85695</td>\n",
       "    </tr>\n",
       "    <tr>\n",
       "      <th>11</th>\n",
       "      <td>2020</td>\n",
       "      <td>82947</td>\n",
       "    </tr>\n",
       "  </tbody>\n",
       "</table>\n",
       "</div>"
      ],
      "text/plain": [
       "    year  count\n",
       "0   2009      2\n",
       "1   2010     91\n",
       "2   2011   1912\n",
       "3   2012   1461\n",
       "4   2013   4877\n",
       "5   2014  15421\n",
       "6   2015  23951\n",
       "7   2016  23735\n",
       "8   2017  49315\n",
       "9   2018  79590\n",
       "10  2019  85695\n",
       "11  2020  82947"
      ]
     },
     "execution_count": 190,
     "metadata": {},
     "output_type": "execute_result"
    }
   ],
   "source": [
    "Senterica_annual_counts[Senterica_annual_counts[\"year\"] != 2021]"
   ]
  },
  {
   "cell_type": "code",
   "execution_count": 161,
   "metadata": {},
   "outputs": [
    {
     "data": {
      "text/plain": [
       "Counter({2021: 45904,\n",
       "         2020: 82947,\n",
       "         2019: 85695,\n",
       "         2016: 23735,\n",
       "         2018: 79590,\n",
       "         2017: 49315,\n",
       "         2015: 23951,\n",
       "         2012: 1461,\n",
       "         2011: 1912,\n",
       "         2014: 15421,\n",
       "         2010: 91,\n",
       "         2013: 4877,\n",
       "         2009: 2})"
      ]
     },
     "execution_count": 161,
     "metadata": {},
     "output_type": "execute_result"
    }
   ],
   "source": [
    "from collections import Counter\n",
    "\n",
    "Counter(Senterica[\"ReleaseDate\"][Senterica[\"LibrarySource\"] == \"GENOMIC\"].dt.year)"
   ]
  },
  {
   "cell_type": "code",
   "execution_count": 237,
   "metadata": {},
   "outputs": [
    {
     "data": {
      "text/plain": [
       "collections.Counter"
      ]
     },
     "execution_count": 237,
     "metadata": {},
     "output_type": "execute_result"
    }
   ],
   "source": [
    "annual_counts = Counter(Senterica[\"ReleaseDate\"][Senterica[\"LibrarySource\"] == \"GENOMIC\"].dt.year)\n",
    "type(annual_counts)"
   ]
  },
  {
   "cell_type": "code",
   "execution_count": 257,
   "metadata": {},
   "outputs": [
    {
     "data": {
      "text/plain": [
       "GENOMIC               414901\n",
       "TRANSCRIPTOMIC          2319\n",
       "METAGENOMIC              237\n",
       "OTHER                     82\n",
       "SYNTHETIC                 48\n",
       "METATRANSCRIPTOMIC         1\n",
       "Name: LibrarySource, dtype: int64"
      ]
     },
     "execution_count": 257,
     "metadata": {},
     "output_type": "execute_result"
    }
   ],
   "source": [
    "libsource = Senterica[\"LibrarySource\"]\n",
    "libsource_counts = libsource.value_counts()\n",
    "libsource_counts"
   ]
  },
  {
   "cell_type": "code",
   "execution_count": 258,
   "metadata": {},
   "outputs": [
    {
     "data": {
      "image/png": "[encoded data removed]",
      "text/plain": [
       "<Figure size 432x288 with 1 Axes>"
      ]
     },
     "metadata": {
      "needs_background": "light"
     },
     "output_type": "display_data"
    }
   ],
   "source": [
    "fig = plt.figure()\n",
    "ax = fig.add_axes([0,0,1,1])\n",
    "ax.bar(libsource_counts.index, libsource_counts.values)\n",
    "ax.set_ylabel('Number of Datasets')\n",
    "ax.set_title('S. enterica SRA Datasets by Library Source')\n",
    "ax.set_xlabel('Library Source')\n",
    "plt.xticks(rotation = 90)\n",
    "plt.yscale(\"log\")\n",
    "plt.show()"
   ]
  },
  {
   "cell_type": "code",
   "execution_count": 282,
   "metadata": {},
   "outputs": [
    {
     "data": {
      "text/plain": [
       "WGS                 411897\n",
       "RNA-Seq               2251\n",
       "AMPLICON              1826\n",
       "OTHER                  519\n",
       "Tn-Seq                 345\n",
       "WGA                    283\n",
       "ChIP-Seq               137\n",
       "Targeted-Capture       129\n",
       "RIP-Seq                 68\n",
       "POOLCLONE               57\n",
       "FINISHING               27\n",
       "FL-cDNA                 14\n",
       "CLONE                   10\n",
       "WCS                      7\n",
       "ncRNA-Seq                6\n",
       "WXS                      3\n",
       "miRNA-Seq                3\n",
       "RAD-Seq                  2\n",
       "CLONEEND                 2\n",
       "MeDIP-Seq                1\n",
       "Bisulfite-Seq            1\n",
       "Name: LibraryStrategy, dtype: int64"
      ]
     },
     "execution_count": 282,
     "metadata": {},
     "output_type": "execute_result"
    }
   ],
   "source": [
    "libstrat = Senterica[\"LibraryStrategy\"]\n",
    "libstrat_counts = libstrat.value_counts()\n",
    "libstrat_counts"
   ]
  },
  {
   "cell_type": "code",
   "execution_count": 283,
   "metadata": {},
   "outputs": [
    {
     "data": {
      "image/png": "[encoded data removed]",
      "text/plain": [
       "<Figure size 432x288 with 1 Axes>"
      ]
     },
     "metadata": {
      "needs_background": "light"
     },
     "output_type": "display_data"
    }
   ],
   "source": [
    "fig = plt.figure()\n",
    "ax = fig.add_axes([0,0,1,1])\n",
    "ax.bar(libstrat_counts.index, libstrat_counts.values)\n",
    "ax.set_ylabel('Number of Datasets')\n",
    "ax.set_title('S. enterica SRA Datasets by Library Strategy')\n",
    "ax.set_xlabel('Library Strategy')\n",
    "plt.xticks(rotation = 90)\n",
    "plt.yscale(\"log\")\n",
    "plt.show()"
   ]
  },
  {
   "cell_type": "code",
   "execution_count": 286,
   "metadata": {},
   "outputs": [
    {
     "data": {
      "text/plain": [
       "0         SRS9652593\n",
       "1         SRS9659055\n",
       "2         SRS9659056\n",
       "3         SRS9659054\n",
       "4         SRS9659756\n",
       "             ...    \n",
       "417583    SRS9621081\n",
       "417584    SRS9621080\n",
       "417585    SRS9621079\n",
       "417586    SRS9620416\n",
       "417587    SRS9621092\n",
       "Name: Sample, Length: 417588, dtype: object"
      ]
     },
     "execution_count": 286,
     "metadata": {},
     "output_type": "execute_result"
    }
   ],
   "source": []
  },
  {
   "cell_type": "code",
   "execution_count": 248,
   "metadata": {},
   "outputs": [
    {
     "data": {
      "text/plain": [
       "ILLUMINA             410582\n",
       "PACBIO_SMRT            1206\n",
       "OXFORD_NANOPORE        1017\n",
       "LS454                   743\n",
       "ION_TORRENT             718\n",
       "BGISEQ                  412\n",
       "CAPILLARY               125\n",
       "ABI_SOLID                95\n",
       "HELICOS                   2\n",
       "COMPLETE_GENOMICS         1\n",
       "Name: Platform, dtype: int64"
      ]
     },
     "execution_count": 248,
     "metadata": {},
     "output_type": "execute_result"
    }
   ],
   "source": [
    "platform = Senterica[\"Platform\"][Senterica[\"LibrarySource\"] == \"GENOMIC\"]\n",
    "platform_counts = platform.value_counts()\n",
    "platform_counts"
   ]
  },
  {
   "cell_type": "code",
   "execution_count": 254,
   "metadata": {
    "scrolled": true
   },
   "outputs": [
    {
     "data": {
      "image/png": "[encoded data removed]",
      "text/plain": [
       "<Figure size 432x288 with 1 Axes>"
      ]
     },
     "metadata": {
      "needs_background": "light"
     },
     "output_type": "display_data"
    }
   ],
   "source": [
    "fig = plt.figure()\n",
    "ax = fig.add_axes([0,0,1,1])\n",
    "ax.bar(platform_counts.index,platform_counts.values)\n",
    "ax.set_ylabel('Number of Datasets')\n",
    "ax.set_title('S. enterica SRA Datasets by Platform')\n",
    "ax.set_xlabel('Platform')\n",
    "plt.xticks(rotation = 90)\n",
    "plt.yscale(\"log\")\n",
    "plt.show()"
   ]
  },
  {
   "cell_type": "code",
   "execution_count": 34,
   "metadata": {
    "scrolled": true
   },
   "outputs": [
    {
     "data": {
      "text/plain": [
       "Index(['Run', 'ReleaseDate', 'LoadDate', 'spots', 'bases', 'spots_with_mates',\n",
       "       'avgLength', 'size_MB', 'AssemblyName', 'download_path', 'Experiment',\n",
       "       'LibraryName', 'LibraryStrategy', 'LibrarySelection', 'LibrarySource',\n",
       "       'LibraryLayout', 'InsertSize', 'InsertDev', 'Platform', 'Model',\n",
       "       'SRAStudy', 'BioProject', 'ProjectID', 'Sample', 'BioSample',\n",
       "       'SampleType', 'TaxID', 'ScientificName', 'SampleName', 'Tumor',\n",
       "       'CenterName', 'Submission', 'Consent', 'RunHash', 'ReadHash'],\n",
       "      dtype='object')"
      ]
     },
     "execution_count": 34,
     "metadata": {},
     "output_type": "execute_result"
    }
   ],
   "source": [
    "Senterica.columns"
   ]
  },
  {
   "cell_type": "code",
   "execution_count": 54,
   "metadata": {},
   "outputs": [
    {
     "data": {
      "text/plain": [
       "array(['Salmonella enterica subsp. enterica',\n",
       "       'Salmonella enterica subsp. enterica serovar Ohio',\n",
       "       'Salmonella enterica subsp. enterica serovar Johannesburg', ...,\n",
       "       'Salmonella enterica subsp. enterica serovar Montevideo str. R8_4892',\n",
       "       'Salmonella enterica subsp. enterica serovar Montevideo str. R8_4893',\n",
       "       'Salmonella enterica subsp. enterica serovar Montevideo str. R8_4918'],\n",
       "      dtype=object)"
      ]
     },
     "execution_count": 54,
     "metadata": {},
     "output_type": "execute_result"
    }
   ],
   "source": [
    "Senterica[\"ScientificName\"].unique()"
   ]
  },
  {
   "cell_type": "code",
   "execution_count": 55,
   "metadata": {},
   "outputs": [
    {
     "data": {
      "text/plain": [
       "2449"
      ]
     },
     "execution_count": 55,
     "metadata": {},
     "output_type": "execute_result"
    }
   ],
   "source": [
    "len(Senterica[\"ScientificName\"].unique())"
   ]
  },
  {
   "cell_type": "code",
   "execution_count": 270,
   "metadata": {},
   "outputs": [
    {
     "data": {
      "text/plain": [
       "Salmonella enterica                                                            219248\n",
       "Salmonella enterica subsp. enterica serovar Enteritidis                         34052\n",
       "Salmonella enterica subsp. enterica serovar Typhimurium                         24408\n",
       "Salmonella enterica subsp. enterica                                             19417\n",
       "Salmonella enterica subsp. enterica serovar Typhi                               13816\n",
       "                                                                                ...  \n",
       "Salmonella enterica subsp. enterica serovar Bournemouth                             1\n",
       "Salmonella enterica subsp. enterica serovar Enteritidis str. CDC_2010K_1018         1\n",
       "Salmonella enterica subsp. enterica serovar Montevideo str. R8_4928                 1\n",
       "Salmonella enterica subsp. enterica serovar Senftenberg str. CFSAN004062            1\n",
       "Salmonella enterica subsp. enterica serovar Splott                                  1\n",
       "Name: ScientificName, Length: 2439, dtype: int64"
      ]
     },
     "execution_count": 270,
     "metadata": {},
     "output_type": "execute_result"
    }
   ],
   "source": [
    "sci_name = Senterica[\"ScientificName\"][Senterica[\"LibrarySource\"] == \"GENOMIC\"]\n",
    "sci_name = sci_name.value_counts()\n",
    "sci_name"
   ]
  },
  {
   "cell_type": "code",
   "execution_count": 278,
   "metadata": {},
   "outputs": [
    {
     "data": {
      "text/plain": [
       "1472"
      ]
     },
     "execution_count": 278,
     "metadata": {},
     "output_type": "execute_result"
    }
   ],
   "source": [
    "list(sci_name.values == 1).count(True) #count singletons"
   ]
  },
  {
   "cell_type": "code",
   "execution_count": 280,
   "metadata": {},
   "outputs": [
    {
     "data": {
      "image/png": "[encoded data removed]",
      "text/plain": [
       "<Figure size 432x288 with 1 Axes>"
      ]
     },
     "metadata": {
      "needs_background": "light"
     },
     "output_type": "display_data"
    }
   ],
   "source": [
    "fig = plt.figure()\n",
    "ax = fig.add_axes([0,0,1,1])\n",
    "ax.bar(sci_name.index[0:10], sci_name.values[0:10])\n",
    "ax.set_ylabel('Number of Datasets')\n",
    "ax.set_title('Top 10 S. enterica Scientific Names for Genomic Datasets in the SRA')\n",
    "ax.set_xlabel('Scientific Name')\n",
    "plt.xticks(rotation = 90)\n",
    "plt.yscale(\"log\")\n",
    "plt.show()"
   ]
  },
  {
   "cell_type": "code",
   "execution_count": 287,
   "metadata": {},
   "outputs": [
    {
     "data": {
      "text/plain": [
       "PULSENET                                                              87676\n",
       "EDLB-CDC                                                              84396\n",
       "PHE                                                                   52186\n",
       "CFSAN                                                                 47604\n",
       "USDA-FSIS                                                             31980\n",
       "                                                                      ...  \n",
       "HOSPITAL UNIVERSITARIO LA PAZ                                             1\n",
       "INSTITUTE FOR MICROBIOLOGY AND EPIZOOTICS, FREIE UNIVERSITY BERLIN        1\n",
       "BEIJING AGRICULTURE UNIVERSITY                                            1\n",
       "ETZ TILBURG                                                               1\n",
       "UFMG                                                                      1\n",
       "Name: CenterName, Length: 421, dtype: int64"
      ]
     },
     "execution_count": 287,
     "metadata": {},
     "output_type": "execute_result"
    }
   ],
   "source": [
    "cent_name = Senterica[\"CenterName\"][Senterica[\"LibrarySource\"] == \"GENOMIC\"]\n",
    "cent_name = cent_name.value_counts()\n",
    "cent_name"
   ]
  },
  {
   "cell_type": "code",
   "execution_count": 288,
   "metadata": {},
   "outputs": [
    {
     "data": {
      "text/plain": [
       "61"
      ]
     },
     "execution_count": 288,
     "metadata": {},
     "output_type": "execute_result"
    }
   ],
   "source": [
    "list(cent_name.values == 1).count(True) #count centers with just 1 contribution"
   ]
  },
  {
   "cell_type": "code",
   "execution_count": 289,
   "metadata": {},
   "outputs": [
    {
     "data": {
      "image/png": "[encoded data removed]",
      "text/plain": [
       "<Figure size 432x288 with 1 Axes>"
      ]
     },
     "metadata": {
      "needs_background": "light"
     },
     "output_type": "display_data"
    }
   ],
   "source": [
    "fig = plt.figure()\n",
    "ax = fig.add_axes([0,0,1,1])\n",
    "ax.bar(cent_name.index[0:10], cent_name.values[0:10])\n",
    "ax.set_ylabel('Number of Datasets')\n",
    "ax.set_title('Top 10 S. enterica Center Names for Genomic Datasets in the SRA')\n",
    "ax.set_xlabel('Center Name')\n",
    "plt.xticks(rotation = 90)\n",
    "plt.yscale(\"log\")\n",
    "plt.show()"
   ]
  },
  {
   "cell_type": "markdown",
   "metadata": {},
   "source": [
    "### Additional work\n",
    "\n",
    "2. Barplots of number of SRA datasets released per year faceted by CenterName"
   ]
  },
  {
   "cell_type": "markdown",
   "metadata": {},
   "source": [
    "### Conversion to PDF\n",
    "\n",
    "This Jupyter Notebook may be converted to a pdf that displays all text, code, and output with the following command executed at the BASH prompt:\n",
    "\n",
    "`jupyter-nbconvert --to pdf /home/chrisgaby/Documents/USDA/JupyterNotebooks/SalmonellaRunInfoFromSRA.ipynb`"
   ]
  }
 ],
 "metadata": {
  "kernelspec": {
   "display_name": "Python 3",
   "language": "python",
   "name": "python3"
  },
  "language_info": {
   "codemirror_mode": {
    "name": "ipython",
    "version": 3
   },
   "file_extension": ".py",
   "mimetype": "text/x-python",
   "name": "python",
   "nbconvert_exporter": "python",
   "pygments_lexer": "ipython3",
   "version": "3.8.3"
  }
 },
 "nbformat": 4,
 "nbformat_minor": 4
}
